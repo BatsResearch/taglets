{
 "cells": [
  {
   "cell_type": "code",
   "execution_count": null,
   "id": "loaded-poker",
   "metadata": {},
   "outputs": [],
   "source": [
    "import json\n",
    "import numpy as np\n",
    "import pandas as pd\n",
    "import scipy.stats as st\n",
    "\n",
    "import matplotlib.pyplot as plt"
   ]
  },
  {
   "cell_type": "code",
   "execution_count": null,
   "id": "wanted-fault",
   "metadata": {},
   "outputs": [],
   "source": [
    "# Here we can add all the methods we have/want\n",
    "models_list = [\n",
    "    'coop_baseline', 'coop_pseudo_baseline',\n",
    "    'vpt_baseline', 'vpt_pseudo_baseline', \n",
    "    'teacher_student',\n",
    "]"
   ]
  },
  {
   "cell_type": "code",
   "execution_count": null,
   "id": "scheduled-password",
   "metadata": {},
   "outputs": [],
   "source": [
    "model = models_list[0]\n",
    "print(model)\n",
    "filename = f\"results_model_{model}.json\"\n",
    "\n",
    "data = [json.loads(i) for i in open(filename,'r').readlines()]"
   ]
  },
  {
   "cell_type": "code",
   "execution_count": null,
   "id": "considerable-application",
   "metadata": {},
   "outputs": [],
   "source": [
    "std_accuracies = []\n",
    "gen_accuracies = []\n",
    "seen_accuracies = []\n",
    "unseen_accuracies = []\n",
    "harmonic_accuracies = []\n",
    "\n",
    "for m in data:\n",
    "    # Here change and filter data depending on what results we want/\n",
    "    # For instance, let's assume we want \n",
    "    if (\n",
    "        (m['config']['DATASET_NAME'] == 'Flowers102') \\\n",
    "        and (m['config']['VIS_ENCODER'] == 'RN50') \\\n",
    "        and (m['config']['SPLIT_SEED'] == 500) \n",
    "    ):\n",
    "        std_accuracies.append(m['std_accuracy'])\n",
    "        gen_accuracies.append(m['gen_accuracy'])\n",
    "        seen_accuracies.append(m['gen_seen'])\n",
    "        unseen_accuracies.append(m['gen_unseen'])\n",
    "        harmonic_accuracies.append(st.hmean([m['gen_seen'], m['gen_unseen']]))\n",
    "\n",
    "print(f\"Mean STD accuracy: {np.sum(std_accuracies)/len(std_accuracies)}\")\n",
    "print(f\"Std STD accuracy: {np.std(std_accuracies)}\")\n",
    "interval = st.t.interval(alpha=0.95, df=len(std_accuracies)-1, loc=np.mean(std_accuracies), scale=st.sem(std_accuracies)) \n",
    "print(f\"95% STD confidence interval {np.sum(std_accuracies)/len(std_accuracies) - interval[0]}\")\n",
    "print('\\n')\n",
    "\n",
    "print(f\"Mean SEEN accuracy: {np.sum(seen_accuracies)/len(seen_accuracies)}\")\n",
    "print(f\"Std SEEN accuracy: {np.std(seen_accuracies)}\")\n",
    "interval = st.t.interval(alpha=0.95, df=len(seen_accuracies)-1, loc=np.mean(seen_accuracies), scale=st.sem(seen_accuracies)) \n",
    "print(f\"95% SEEN confidence interval {np.sum(seen_accuracies)/len(seen_accuracies) - interval[0]}\")\n",
    "print('\\n')\n",
    "\n",
    "print(f\"Mean UNSEEN accuracy: {np.sum(unseen_accuracies)/len(unseen_accuracies)}\")\n",
    "print(f\"Std UNSEEN accuracy: {np.std(unseen_accuracies)}\")\n",
    "interval = st.t.interval(alpha=0.95, df=len(unseen_accuracies)-1, loc=np.mean(unseen_accuracies), scale=st.sem(unseen_accuracies)) \n",
    "print(f\"95% UNSEEN confidence interval {np.sum(unseen_accuracies)/len(unseen_accuracies) - interval[0]}\")\n",
    "print('\\n')\n",
    "\n",
    "print(f\"Mean HARMONIC accuracy: {np.sum(harmonic_accuracies)/len(harmonic_accuracies)}\")\n",
    "print(f\"Std HARMONIC accuracy: {np.std(harmonic_accuracies)}\")\n",
    "interval = st.t.interval(alpha=0.95, df=len(harmonic_accuracies)-1, loc=np.mean(harmonic_accuracies), scale=st.sem(harmonic_accuracies)) \n",
    "print(f\"95% HARMONIC confidence interval {np.sum(harmonic_accuracies)/len(harmonic_accuracies) - interval[0]}\")"
   ]
  },
  {
   "cell_type": "markdown",
   "id": "decimal-basin",
   "metadata": {},
   "source": [
    "In the google sheets, I report the mean and the confidence interval."
   ]
  },
  {
   "cell_type": "code",
   "execution_count": null,
   "id": "compound-guatemala",
   "metadata": {},
   "outputs": [],
   "source": []
  }
 ],
 "metadata": {
  "kernelspec": {
   "display_name": "Python 3",
   "language": "python",
   "name": "python3"
  },
  "language_info": {
   "codemirror_mode": {
    "name": "ipython",
    "version": 3
   },
   "file_extension": ".py",
   "mimetype": "text/x-python",
   "name": "python",
   "nbconvert_exporter": "python",
   "pygments_lexer": "ipython3",
   "version": "3.8.5"
  }
 },
 "nbformat": 4,
 "nbformat_minor": 5
}
