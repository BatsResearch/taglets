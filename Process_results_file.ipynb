{
 "cells": [
  {
   "cell_type": "code",
   "execution_count": 1,
   "id": "micro-router",
   "metadata": {},
   "outputs": [],
   "source": [
    "import json\n",
    "import numpy as np\n",
    "import pandas as pd\n",
    "import scipy.stats as st\n",
    "\n",
    "import matplotlib.pyplot as plt"
   ]
  },
  {
   "cell_type": "code",
   "execution_count": 2,
   "id": "express-governor",
   "metadata": {},
   "outputs": [],
   "source": [
    "# Here we can add all the methods we have/want\n",
    "models_list = [\n",
    "    'coop_baseline', 'coop_pseudo_baseline',\n",
    "    'vpt_baseline', 'vpt_pseudo_baseline', \n",
    "    'teacher_student',\n",
    "]"
   ]
  },
  {
   "cell_type": "code",
   "execution_count": 32,
   "id": "august-translator",
   "metadata": {},
   "outputs": [
    {
     "name": "stdout",
     "output_type": "stream",
     "text": [
      "vpt_pseudo_baseline\n"
     ]
    }
   ],
   "source": [
    "model = models_list[3]\n",
    "print(model)\n",
    "filename = f\"results_model_{model}.json\"\n",
    "\n",
    "data = [json.loads(i) for i in open(filename,'r').readlines()]"
   ]
  },
  {
   "cell_type": "code",
   "execution_count": 33,
   "id": "smart-console",
   "metadata": {},
   "outputs": [
    {
     "name": "stdout",
     "output_type": "stream",
     "text": [
      "Mean STD accuracy: 83.95\n",
      "Std STD accuracy: 0.003412929352569403\n",
      "95% STD confidence interval 0.47\n",
      "\n",
      "\n",
      "Mean SEEN accuracy: 68.76\n",
      "Std SEEN accuracy: 0.009803865145406238\n",
      "95% SEEN confidence interval 1.36\n",
      "\n",
      "\n",
      "Mean UNSEEN accuracy: 75.63\n",
      "Std UNSEEN accuracy: 0.005923003535645189\n",
      "95% UNSEEN confidence interval 0.82\n",
      "\n",
      "\n",
      "Mean HARMONIC accuracy: 72.03\n",
      "Std HARMONIC accuracy: 0.003354808733808151\n",
      "95% HARMONIC confidence interval 0.47\n"
     ]
    }
   ],
   "source": [
    "std_accuracies = []\n",
    "gen_accuracies = []\n",
    "seen_accuracies = []\n",
    "unseen_accuracies = []\n",
    "harmonic_accuracies = []\n",
    "\n",
    "for m in data:\n",
    "    # Here change and filter data depending on what results we want/\n",
    "    # For instance, let's assume we want \n",
    "    if (\n",
    "        (m['config']['DATASET_NAME'] == 'RESICS45')  \\\n",
    "         and (m['config']['VIS_ENCODER'] == 'ViT-B/32') \\\n",
    "         and (m['config']['SPLIT_SEED'] == 500) \n",
    "    ):\n",
    "        std_accuracies.append(m['std_accuracy'])\n",
    "        gen_accuracies.append(m['gen_accuracy'])\n",
    "        seen_accuracies.append(m['gen_seen'])\n",
    "        unseen_accuracies.append(m['gen_unseen'])\n",
    "        harmonic_accuracies.append(st.hmean([m['gen_seen'], m['gen_unseen']]))\n",
    "\n",
    "print(f\"Mean STD accuracy: {round((np.sum(std_accuracies)/len(std_accuracies))*100, 2)}\")\n",
    "print(f\"Std STD accuracy: {np.std(std_accuracies)}\")\n",
    "interval = st.t.interval(alpha=0.95, df=len(std_accuracies)-1, loc=np.mean(std_accuracies), scale=st.sem(std_accuracies)) \n",
    "print(f\"95% STD confidence interval {round((np.sum(std_accuracies)/len(std_accuracies) - interval[0])*100, 2)}\")\n",
    "print('\\n')\n",
    "\n",
    "print(f\"Mean SEEN accuracy: {round((np.sum(seen_accuracies)/len(seen_accuracies))*100, 2)}\")\n",
    "print(f\"Std SEEN accuracy: {np.std(seen_accuracies)}\")\n",
    "interval = st.t.interval(alpha=0.95, df=len(seen_accuracies)-1, loc=np.mean(seen_accuracies), scale=st.sem(seen_accuracies)) \n",
    "print(f\"95% SEEN confidence interval {round((np.sum(seen_accuracies)/len(seen_accuracies) - interval[0])*100, 2)}\")\n",
    "print('\\n')\n",
    "\n",
    "print(f\"Mean UNSEEN accuracy: {round((np.sum(unseen_accuracies)/len(unseen_accuracies))*100,2)}\")\n",
    "print(f\"Std UNSEEN accuracy: {np.std(unseen_accuracies)}\")\n",
    "interval = st.t.interval(alpha=0.95, df=len(unseen_accuracies)-1, loc=np.mean(unseen_accuracies), scale=st.sem(unseen_accuracies)) \n",
    "print(f\"95% UNSEEN confidence interval {round((np.sum(unseen_accuracies)/len(unseen_accuracies) - interval[0])*100,2)}\")\n",
    "print('\\n')\n",
    "\n",
    "print(f\"Mean HARMONIC accuracy: {round((np.sum(harmonic_accuracies)/len(harmonic_accuracies))*100, 2)}\")\n",
    "print(f\"Std HARMONIC accuracy: {np.std(harmonic_accuracies)}\")\n",
    "interval = st.t.interval(alpha=0.95, df=len(harmonic_accuracies)-1, loc=np.mean(harmonic_accuracies), scale=st.sem(harmonic_accuracies)) \n",
    "print(f\"95% HARMONIC confidence interval {round((np.sum(harmonic_accuracies)/len(harmonic_accuracies) - interval[0])*100, 2)}\")"
   ]
  },
  {
   "cell_type": "code",
   "execution_count": 29,
   "id": "otherwise-setup",
   "metadata": {},
   "outputs": [
    {
     "data": {
      "text/plain": [
       "[0.3486111111111111,\n",
       " 0.3486111111111111,\n",
       " 0.3680555555555556,\n",
       " 0.3527777777777778,\n",
       " 0.35555555555555557,\n",
       " 0.3638888888888889,\n",
       " 0.3625,\n",
       " 0.34305555555555556,\n",
       " 0.3625,\n",
       " 0.35,\n",
       " 0.35138888888888886]"
      ]
     },
     "execution_count": 29,
     "metadata": {},
     "output_type": "execute_result"
    }
   ],
   "source": [
    "unseen_accuracies"
   ]
  },
  {
   "cell_type": "markdown",
   "id": "prescription-victory",
   "metadata": {},
   "source": [
    "In the google sheets, I report the mean and the confidence interval."
   ]
  },
  {
   "cell_type": "code",
   "execution_count": 18,
   "id": "roman-correction",
   "metadata": {},
   "outputs": [],
   "source": [
    "import pickle"
   ]
  },
  {
   "cell_type": "code",
   "execution_count": 20,
   "id": "governing-tractor",
   "metadata": {},
   "outputs": [],
   "source": [
    "with open('Flowers102_coop_baseline_RN101_opt_100_spl_0.pickle', 'rb') as f:\n",
    "    data = pickle.load(f)"
   ]
  },
  {
   "cell_type": "code",
   "execution_count": 23,
   "id": "bacterial-denmark",
   "metadata": {},
   "outputs": [
    {
     "data": {
      "text/plain": [
       "array([[[ 0.0141661 ,  0.01154805, -0.00731809, ...,  0.0088033 ,\n",
       "          0.00533164,  0.00627134],\n",
       "        [ 0.00435409,  0.0012099 , -0.00862264, ..., -0.00905044,\n",
       "          0.01261343,  0.00636003],\n",
       "        [ 0.00259562,  0.00175074, -0.00354808, ..., -0.01755268,\n",
       "          0.00199584, -0.01359151],\n",
       "        ...,\n",
       "        [ 0.0136095 , -0.01302855, -0.00152316, ..., -0.00584143,\n",
       "          0.01086486,  0.01312908],\n",
       "        [-0.0004344 ,  0.0026134 , -0.00459469, ...,  0.0004229 ,\n",
       "          0.01705721,  0.02296569],\n",
       "        [ 0.0063952 ,  0.002413  , -0.00985158, ..., -0.00904753,\n",
       "         -0.00120628, -0.00495799]]], dtype=float32)"
      ]
     },
     "execution_count": 23,
     "metadata": {},
     "output_type": "execute_result"
    }
   ],
   "source": [
    "data[0]"
   ]
  },
  {
   "cell_type": "code",
   "execution_count": null,
   "id": "transparent-objective",
   "metadata": {},
   "outputs": [],
   "source": []
  }
 ],
 "metadata": {
  "kernelspec": {
   "display_name": "Python 3",
   "language": "python",
   "name": "python3"
  },
  "language_info": {
   "codemirror_mode": {
    "name": "ipython",
    "version": 3
   },
   "file_extension": ".py",
   "mimetype": "text/x-python",
   "name": "python",
   "nbconvert_exporter": "python",
   "pygments_lexer": "ipython3",
   "version": "3.8.5"
  }
 },
 "nbformat": 4,
 "nbformat_minor": 5
}
