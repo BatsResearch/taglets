{
 "cells": [
  {
   "cell_type": "code",
   "execution_count": 1,
   "id": "graphic-rates",
   "metadata": {},
   "outputs": [],
   "source": [
    "import json\n",
    "import numpy as np\n",
    "import pandas as pd\n",
    "import scipy.stats as st\n",
    "\n",
    "import matplotlib.pyplot as plt"
   ]
  },
  {
   "cell_type": "code",
   "execution_count": 358,
   "id": "empty-signature",
   "metadata": {},
   "outputs": [],
   "source": [
    "# Here we can add all the methods we have/want\n",
    "models_list = ['clip_baseline',\n",
    "    'coop_baseline', 'coop_pseudo_baseline',\n",
    "    'vpt_baseline', 'vpt_pseudo_baseline', \n",
    "    'teacher_student',\n",
    "]"
   ]
  },
  {
   "cell_type": "code",
   "execution_count": 409,
   "id": "illegal-headset",
   "metadata": {},
   "outputs": [
    {
     "name": "stdout",
     "output_type": "stream",
     "text": [
      "vpt_baseline\n"
     ]
    }
   ],
   "source": [
    "model = models_list[3]\n",
    "print(model)\n",
    "filename = f\"results/results_model_{model}.json\"\n",
    "\n",
    "data = [json.loads(i) for i in open(filename,'r').readlines()]"
   ]
  },
  {
   "cell_type": "code",
   "execution_count": 404,
   "id": "patient-superior",
   "metadata": {},
   "outputs": [
    {
     "name": "stdout",
     "output_type": "stream",
     "text": [
      "Mean STD accuracy: 53.81\n",
      "Std STD accuracy: 0.035252615698416576\n",
      "95% STD confidence interval 4.89\n",
      "\n",
      "\n",
      "Mean SEEN accuracy: 76.05\n",
      "Std SEEN accuracy: 0.011350538338367454\n",
      "95% SEEN confidence interval 1.58\n",
      "\n",
      "\n",
      "Mean UNSEEN accuracy: 37.97\n",
      "Std UNSEEN accuracy: 0.019216922840475527\n",
      "95% UNSEEN confidence interval 2.67\n",
      "\n",
      "\n",
      "Mean HARMONIC accuracy: 50.62\n",
      "Std HARMONIC accuracy: 0.016099292497176475\n",
      "95% HARMONIC confidence interval 2.23\n"
     ]
    }
   ],
   "source": [
    "std_accuracies = []\n",
    "gen_accuracies = []\n",
    "seen_accuracies = []\n",
    "unseen_accuracies = []\n",
    "harmonic_accuracies = []\n",
    "\n",
    "fix_num = 0\n",
    "\n",
    "\n",
    "for m in data:\n",
    "    # Here change and filter data depending on what results we want/\n",
    "    # For instance, let's assume we want \n",
    "    if (\n",
    "        (m['config']['DATASET_NAME'] == 'DTD')  \\\n",
    "         and (m['config']['VIS_ENCODER'] == 'ViT-B/32') \\\n",
    "         and (m['config']['SPLIT_SEED'] == 0) \\\n",
    "    ):\n",
    "        std_accuracies.append(m['std_accuracy'])\n",
    "        gen_accuracies.append(m['gen_accuracy'])\n",
    "        seen_accuracies.append(m['gen_seen'])\n",
    "        unseen_accuracies.append(m['gen_unseen'])\n",
    "        harmonic_accuracies.append(st.hmean([m['gen_seen'], m['gen_unseen']]))\n",
    "        \n",
    "std_accuracies = std_accuracies[fix_num:]\n",
    "gen_accuracies = gen_accuracies[fix_num:]\n",
    "seen_accuracies = seen_accuracies[fix_num:]\n",
    "unseen_accuracies = unseen_accuracies[fix_num:]\n",
    "harmonic_accuracies = harmonic_accuracies[fix_num:]\n",
    "\n",
    "print(f\"Mean STD accuracy: {round((np.sum(std_accuracies)/len(std_accuracies))*100, 2)}\")\n",
    "print(f\"Std STD accuracy: {np.std(std_accuracies)}\")\n",
    "interval = st.t.interval(alpha=0.95, df=len(std_accuracies)-1, loc=np.mean(std_accuracies), scale=st.sem(std_accuracies)) \n",
    "print(f\"95% STD confidence interval {round((np.sum(std_accuracies)/len(std_accuracies) - interval[0])*100, 2)}\")\n",
    "print('\\n')\n",
    "\n",
    "print(f\"Mean SEEN accuracy: {round((np.sum(seen_accuracies)/len(seen_accuracies))*100, 2)}\")\n",
    "print(f\"Std SEEN accuracy: {np.std(seen_accuracies)}\")\n",
    "interval = st.t.interval(alpha=0.95, df=len(seen_accuracies)-1, loc=np.mean(seen_accuracies), scale=st.sem(seen_accuracies)) \n",
    "print(f\"95% SEEN confidence interval {round((np.sum(seen_accuracies)/len(seen_accuracies) - interval[0])*100, 2)}\")\n",
    "print('\\n')\n",
    "\n",
    "print(f\"Mean UNSEEN accuracy: {round((np.sum(unseen_accuracies)/len(unseen_accuracies))*100,2)}\")\n",
    "print(f\"Std UNSEEN accuracy: {np.std(unseen_accuracies)}\")\n",
    "interval = st.t.interval(alpha=0.95, df=len(unseen_accuracies)-1, loc=np.mean(unseen_accuracies), scale=st.sem(unseen_accuracies)) \n",
    "print(f\"95% UNSEEN confidence interval {round((np.sum(unseen_accuracies)/len(unseen_accuracies) - interval[0])*100,2)}\")\n",
    "print('\\n')\n",
    "\n",
    "print(f\"Mean HARMONIC accuracy: {round((np.sum(harmonic_accuracies)/len(harmonic_accuracies))*100, 2)}\")\n",
    "print(f\"Std HARMONIC accuracy: {np.std(harmonic_accuracies)}\")\n",
    "interval = st.t.interval(alpha=0.95, df=len(harmonic_accuracies)-1, loc=np.mean(harmonic_accuracies), scale=st.sem(harmonic_accuracies)) \n",
    "print(f\"95% HARMONIC confidence interval {round((np.sum(harmonic_accuracies)/len(harmonic_accuracies) - interval[0])*100, 2)}\")"
   ]
  },
  {
   "cell_type": "code",
   "execution_count": 405,
   "id": "uniform-bottle",
   "metadata": {},
   "outputs": [
    {
     "data": {
      "text/plain": [
       "[0.743103448275862,\n",
       " 0.778448275862069,\n",
       " 0.7594827586206897,\n",
       " 0.7637931034482759,\n",
       " 0.7577586206896552]"
      ]
     },
     "execution_count": 405,
     "metadata": {},
     "output_type": "execute_result"
    }
   ],
   "source": [
    "seen_accuracies"
   ]
  },
  {
   "cell_type": "code",
   "execution_count": 406,
   "id": "black-certification",
   "metadata": {},
   "outputs": [
    {
     "data": {
      "text/plain": [
       "[0.39305555555555555,\n",
       " 0.375,\n",
       " 0.3597222222222222,\n",
       " 0.3611111111111111,\n",
       " 0.4097222222222222]"
      ]
     },
     "execution_count": 406,
     "metadata": {},
     "output_type": "execute_result"
    }
   ],
   "source": [
    "unseen_accuracies"
   ]
  },
  {
   "cell_type": "code",
   "execution_count": 407,
   "id": "wrapped-broadcast",
   "metadata": {},
   "outputs": [
    {
     "data": {
      "text/plain": [
       "[0.5141550394132277,\n",
       " 0.5061659192825113,\n",
       " 0.48820873807180454,\n",
       " 0.4903780653950954,\n",
       " 0.531864052180334]"
      ]
     },
     "execution_count": 407,
     "metadata": {},
     "output_type": "execute_result"
    }
   ],
   "source": [
    "harmonic_accuracies"
   ]
  },
  {
   "cell_type": "code",
   "execution_count": 408,
   "id": "competent-louisville",
   "metadata": {},
   "outputs": [
    {
     "data": {
      "text/plain": [
       "[0.5708333333333333,\n",
       " 0.5194444444444445,\n",
       " 0.5125,\n",
       " 0.4986111111111111,\n",
       " 0.5888888888888889]"
      ]
     },
     "execution_count": 408,
     "metadata": {},
     "output_type": "execute_result"
    }
   ],
   "source": [
    "std_accuracies"
   ]
  },
  {
   "cell_type": "markdown",
   "id": "present-vatican",
   "metadata": {},
   "source": [
    "In the google sheets, I report the mean and the confidence interval."
   ]
  },
  {
   "cell_type": "code",
   "execution_count": 309,
   "id": "valuable-quest",
   "metadata": {},
   "outputs": [],
   "source": [
    "a = [0.906, 0.772, 0.567, 0.8936]"
   ]
  },
  {
   "cell_type": "code",
   "execution_count": 308,
   "id": "announced-virgin",
   "metadata": {},
   "outputs": [],
   "source": [
    "b = [0.8175, 0.8405, 0.8705, 0.7975]"
   ]
  },
  {
   "cell_type": "code",
   "execution_count": 311,
   "id": "stunning-multimedia",
   "metadata": {},
   "outputs": [
    {
     "data": {
      "text/plain": [
       "0.7984508171723251"
      ]
     },
     "execution_count": 311,
     "metadata": {},
     "output_type": "execute_result"
    }
   ],
   "source": [
    "np.mean(st.hmean([a, b]))"
   ]
  },
  {
   "cell_type": "code",
   "execution_count": 18,
   "id": "norwegian-pattern",
   "metadata": {},
   "outputs": [],
   "source": [
    "import pickle"
   ]
  },
  {
   "cell_type": "code",
   "execution_count": 138,
   "id": "great-london",
   "metadata": {},
   "outputs": [],
   "source": [
    "with open('pseudolabels/RESICS45_ViT-B32_student_iter_4_pseudolabels.pickle', 'rb') as f:\n",
    "    data = pickle.load(f)"
   ]
  },
  {
   "cell_type": "code",
   "execution_count": 139,
   "id": "metric-prerequisite",
   "metadata": {},
   "outputs": [],
   "source": [
    "classes = []\n",
    "with open(f\"../development/RESICS45/train.json\", \"r\") as f:\n",
    "    datas = json.load(f)\n",
    "    for d in datas[\"categories\"]:\n",
    "        classes.append(d[\"name\"].replace(\"_\", \" \"))"
   ]
  },
  {
   "cell_type": "code",
   "execution_count": 141,
   "id": "defensive-twelve",
   "metadata": {},
   "outputs": [],
   "source": [
    "for idx, i in enumerate(data['labels']):\n",
    "    print(classes[i], data['filepaths'][idx].split('/')[-1])"
   ]
  },
  {
   "cell_type": "code",
   "execution_count": null,
   "id": "transsexual-mattress",
   "metadata": {},
   "outputs": [],
   "source": []
  }
 ],
 "metadata": {
  "kernelspec": {
   "display_name": "Python 3",
   "language": "python",
   "name": "python3"
  },
  "language_info": {
   "codemirror_mode": {
    "name": "ipython",
    "version": 3
   },
   "file_extension": ".py",
   "mimetype": "text/x-python",
   "name": "python",
   "nbconvert_exporter": "python",
   "pygments_lexer": "ipython3",
   "version": "3.8.5"
  }
 },
 "nbformat": 4,
 "nbformat_minor": 5
}
