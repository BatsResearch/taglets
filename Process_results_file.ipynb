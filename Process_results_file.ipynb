{
 "cells": [
  {
   "cell_type": "code",
   "execution_count": 1,
   "id": "upper-broadcasting",
   "metadata": {},
   "outputs": [],
   "source": [
    "import json\n",
    "import numpy as np\n",
    "import pandas as pd\n",
    "import scipy.stats as st\n",
    "\n",
    "import matplotlib.pyplot as plt"
   ]
  },
  {
   "cell_type": "code",
   "execution_count": 43,
   "id": "blessed-trail",
   "metadata": {},
   "outputs": [],
   "source": [
    "# Here we can add all the methods we have/want\n",
    "models_list = ['clip_baseline',\n",
    "    'coop_baseline', 'coop_pseudo_baseline',\n",
    "    'vpt_baseline', 'vpt_pseudo_baseline', \n",
    "    'teacher_student',\n",
    "]"
   ]
  },
  {
   "cell_type": "code",
   "execution_count": 233,
   "id": "frequent-silicon",
   "metadata": {},
   "outputs": [
    {
     "name": "stdout",
     "output_type": "stream",
     "text": [
      "vpt_baseline\n"
     ]
    }
   ],
   "source": [
    "model = models_list[3]\n",
    "print(model)\n",
    "filename = f\"results/results_model_{model}.json\"\n",
    "\n",
    "data = [json.loads(i) for i in open(filename,'r').readlines()]"
   ]
  },
  {
   "cell_type": "code",
   "execution_count": 234,
   "id": "beginning-transition",
   "metadata": {},
   "outputs": [
    {
     "name": "stdout",
     "output_type": "stream",
     "text": [
      "Mean STD accuracy: 71.81\n",
      "Std STD accuracy: 0.0066381473014519386\n",
      "95% STD confidence interval 0.92\n",
      "\n",
      "\n",
      "Mean SEEN accuracy: 84.04\n",
      "Std SEEN accuracy: 0.004345982491313305\n",
      "95% SEEN confidence interval 0.6\n",
      "\n",
      "\n",
      "Mean UNSEEN accuracy: 55.02\n",
      "Std UNSEEN accuracy: 0.01810554878202822\n",
      "95% UNSEEN confidence interval 2.51\n",
      "\n",
      "\n",
      "Mean HARMONIC accuracy: 66.48\n",
      "Std HARMONIC accuracy: 0.013305641307473765\n",
      "95% HARMONIC confidence interval 1.85\n"
     ]
    }
   ],
   "source": [
    "std_accuracies = []\n",
    "gen_accuracies = []\n",
    "seen_accuracies = []\n",
    "unseen_accuracies = []\n",
    "harmonic_accuracies = []\n",
    "\n",
    "fix_num = -5\n",
    "\n",
    "for m in data:\n",
    "    # Here change and filter data depending on what results we want/\n",
    "    # For instance, let's assume we want \n",
    "    if (\n",
    "        (m['config']['DATASET_NAME'] == 'RESICS45')  \\\n",
    "         and (m['config']['VIS_ENCODER'] == 'ViT-B/32') \\\n",
    "         and (m['config']['SPLIT_SEED'] == 500) \\\n",
    "    ):\n",
    "        std_accuracies.append(m['std_accuracy'])\n",
    "        gen_accuracies.append(m['gen_accuracy'])\n",
    "        seen_accuracies.append(m['gen_seen'])\n",
    "        unseen_accuracies.append(m['gen_unseen'])\n",
    "        harmonic_accuracies.append(st.hmean([m['gen_seen'], m['gen_unseen']]))\n",
    "        \n",
    "std_accuracies = std_accuracies[fix_num:]\n",
    "gen_accuracies = gen_accuracies[fix_num:]\n",
    "seen_accuracies = seen_accuracies[fix_num:]\n",
    "unseen_accuracies = unseen_accuracies[fix_num:]\n",
    "harmonic_accuracies = harmonic_accuracies[fix_num:]\n",
    "\n",
    "print(f\"Mean STD accuracy: {round((np.sum(std_accuracies)/len(std_accuracies))*100, 2)}\")\n",
    "print(f\"Std STD accuracy: {np.std(std_accuracies)}\")\n",
    "interval = st.t.interval(alpha=0.95, df=len(std_accuracies)-1, loc=np.mean(std_accuracies), scale=st.sem(std_accuracies)) \n",
    "print(f\"95% STD confidence interval {round((np.sum(std_accuracies)/len(std_accuracies) - interval[0])*100, 2)}\")\n",
    "print('\\n')\n",
    "\n",
    "print(f\"Mean SEEN accuracy: {round((np.sum(seen_accuracies)/len(seen_accuracies))*100, 2)}\")\n",
    "print(f\"Std SEEN accuracy: {np.std(seen_accuracies)}\")\n",
    "interval = st.t.interval(alpha=0.95, df=len(seen_accuracies)-1, loc=np.mean(seen_accuracies), scale=st.sem(seen_accuracies)) \n",
    "print(f\"95% SEEN confidence interval {round((np.sum(seen_accuracies)/len(seen_accuracies) - interval[0])*100, 2)}\")\n",
    "print('\\n')\n",
    "\n",
    "print(f\"Mean UNSEEN accuracy: {round((np.sum(unseen_accuracies)/len(unseen_accuracies))*100,2)}\")\n",
    "print(f\"Std UNSEEN accuracy: {np.std(unseen_accuracies)}\")\n",
    "interval = st.t.interval(alpha=0.95, df=len(unseen_accuracies)-1, loc=np.mean(unseen_accuracies), scale=st.sem(unseen_accuracies)) \n",
    "print(f\"95% UNSEEN confidence interval {round((np.sum(unseen_accuracies)/len(unseen_accuracies) - interval[0])*100,2)}\")\n",
    "print('\\n')\n",
    "\n",
    "print(f\"Mean HARMONIC accuracy: {round((np.sum(harmonic_accuracies)/len(harmonic_accuracies))*100, 2)}\")\n",
    "print(f\"Std HARMONIC accuracy: {np.std(harmonic_accuracies)}\")\n",
    "interval = st.t.interval(alpha=0.95, df=len(harmonic_accuracies)-1, loc=np.mean(harmonic_accuracies), scale=st.sem(harmonic_accuracies)) \n",
    "print(f\"95% HARMONIC confidence interval {round((np.sum(harmonic_accuracies)/len(harmonic_accuracies) - interval[0])*100, 2)}\")"
   ]
  },
  {
   "cell_type": "code",
   "execution_count": 228,
   "id": "activated-default",
   "metadata": {},
   "outputs": [
    {
     "data": {
      "text/plain": [
       "[0.502339373970346,\n",
       " 0.5327182866556837,\n",
       " 0.5261285008237232,\n",
       " 0.5333772652388797,\n",
       " 0.5070181219110379,\n",
       " 0.502339373970346,\n",
       " 0.502339373970346,\n",
       " 0.5298187808896211,\n",
       " 0.5307413509060955,\n",
       " 0.525667215815486,\n",
       " 0.6697858319604613,\n",
       " 0.0031630971993410213,\n",
       " 0.6471828665568369,\n",
       " 6.589785831960461e-05,\n",
       " 0.6660955518945634,\n",
       " 0.6342009884678748,\n",
       " 0.6604283360790775,\n",
       " 0.6627347611202636,\n",
       " 0.6732125205930807]"
      ]
     },
     "execution_count": 228,
     "metadata": {},
     "output_type": "execute_result"
    }
   ],
   "source": [
    "seen_accuracies"
   ]
  },
  {
   "cell_type": "code",
   "execution_count": 229,
   "id": "lasting-visit",
   "metadata": {},
   "outputs": [
    {
     "data": {
      "text/plain": [
       "[0.6985536159600998,\n",
       " 0.6899750623441396,\n",
       " 0.7014463840399002,\n",
       " 0.6835910224438903,\n",
       " 0.6980548628428928,\n",
       " 0.6985536159600998,\n",
       " 0.6985536159600998,\n",
       " 0.6982543640897756,\n",
       " 0.7014463840399002,\n",
       " 0.7087281795511222,\n",
       " 0.7009476309226933,\n",
       " 0.24708229426433914,\n",
       " 0.7016458852867831,\n",
       " 0.24229426433915213,\n",
       " 0.6949625935162095,\n",
       " 0.6984538653366583,\n",
       " 0.701147132169576,\n",
       " 0.7002493765586035,\n",
       " 0.6994513715710723]"
      ]
     },
     "execution_count": 229,
     "metadata": {},
     "output_type": "execute_result"
    }
   ],
   "source": [
    "unseen_accuracies"
   ]
  },
  {
   "cell_type": "code",
   "execution_count": 230,
   "id": "disciplinary-raise",
   "metadata": {},
   "outputs": [
    {
     "data": {
      "text/plain": [
       "[0.5844167449864828,\n",
       " 0.6012338798567747,\n",
       " 0.6012683038625929,\n",
       " 0.5992134943585582,\n",
       " 0.587394240891958,\n",
       " 0.5844167449864828,\n",
       " 0.5844167449864828,\n",
       " 0.6024857353901492,\n",
       " 0.6042692860757116,\n",
       " 0.6036237178347049,\n",
       " 0.6850125204513093,\n",
       " 0.006246231416475186,\n",
       " 0.6733148218067585,\n",
       " 0.00013175988131304228,\n",
       " 0.6802229483510392,\n",
       " 0.6647784766342625,\n",
       " 0.6801788731416916,\n",
       " 0.6809757949032295,\n",
       " 0.6860811646254594]"
      ]
     },
     "execution_count": 230,
     "metadata": {},
     "output_type": "execute_result"
    }
   ],
   "source": [
    "harmonic_accuracies"
   ]
  },
  {
   "cell_type": "code",
   "execution_count": 231,
   "id": "numerous-charity",
   "metadata": {},
   "outputs": [
    {
     "data": {
      "text/plain": [
       "[0.7598004987531172,\n",
       " 0.7612967581047382,\n",
       " 0.7772568578553616,\n",
       " 0.7617955112219451,\n",
       " 0.7659850374064838,\n",
       " 0.7598004987531172,\n",
       " 0.7598004987531172,\n",
       " 0.7650872817955112,\n",
       " 0.7550124688279302,\n",
       " 0.7680798004987531,\n",
       " 0.7824438902743143,\n",
       " 0.24827930174563592,\n",
       " 0.7809476309226933,\n",
       " 0.24239401496259352,\n",
       " 0.7761596009975062,\n",
       " 0.7754613466334165,\n",
       " 0.7810473815461346,\n",
       " 0.7794513715710724,\n",
       " 0.7832418952618454]"
      ]
     },
     "execution_count": 231,
     "metadata": {},
     "output_type": "execute_result"
    }
   ],
   "source": [
    "std_accuracies"
   ]
  },
  {
   "cell_type": "markdown",
   "id": "conceptual-lesbian",
   "metadata": {},
   "source": [
    "In the google sheets, I report the mean and the confidence interval."
   ]
  },
  {
   "cell_type": "code",
   "execution_count": 18,
   "id": "contained-arrow",
   "metadata": {},
   "outputs": [],
   "source": [
    "import pickle"
   ]
  },
  {
   "cell_type": "code",
   "execution_count": 138,
   "id": "opening-operator",
   "metadata": {},
   "outputs": [],
   "source": [
    "with open('pseudolabels/RESICS45_ViT-B32_student_iter_4_pseudolabels.pickle', 'rb') as f:\n",
    "    data = pickle.load(f)"
   ]
  },
  {
   "cell_type": "code",
   "execution_count": 139,
   "id": "sunrise-category",
   "metadata": {},
   "outputs": [],
   "source": [
    "classes = []\n",
    "with open(f\"../development/RESICS45/train.json\", \"r\") as f:\n",
    "    datas = json.load(f)\n",
    "    for d in datas[\"categories\"]:\n",
    "        classes.append(d[\"name\"].replace(\"_\", \" \"))"
   ]
  },
  {
   "cell_type": "code",
   "execution_count": 141,
   "id": "better-patrol",
   "metadata": {},
   "outputs": [],
   "source": [
    "for idx, i in enumerate(data['labels']):\n",
    "    print(classes[i], data['filepaths'][idx].split('/')[-1])"
   ]
  },
  {
   "cell_type": "code",
   "execution_count": null,
   "id": "korean-turner",
   "metadata": {},
   "outputs": [],
   "source": []
  }
 ],
 "metadata": {
  "kernelspec": {
   "display_name": "Python 3",
   "language": "python",
   "name": "python3"
  },
  "language_info": {
   "codemirror_mode": {
    "name": "ipython",
    "version": 3
   },
   "file_extension": ".py",
   "mimetype": "text/x-python",
   "name": "python",
   "nbconvert_exporter": "python",
   "pygments_lexer": "ipython3",
   "version": "3.8.5"
  }
 },
 "nbformat": 4,
 "nbformat_minor": 5
}
