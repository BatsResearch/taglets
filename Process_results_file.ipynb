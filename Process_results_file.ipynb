{
 "cells": [
  {
   "cell_type": "code",
   "execution_count": 1,
   "id": "steady-technique",
   "metadata": {},
   "outputs": [],
   "source": [
    "import json\n",
    "import numpy as np\n",
    "import pandas as pd\n",
    "import scipy.stats as st\n",
    "\n",
    "import matplotlib.pyplot as plt"
   ]
  },
  {
   "cell_type": "code",
   "execution_count": 2,
   "id": "ready-warren",
   "metadata": {},
   "outputs": [],
   "source": [
    "# Here we can add all the methods we have/want\n",
    "models_list = ['clip_baseline',\n",
    "    'coop_baseline', 'coop_pseudo_baseline',\n",
    "    'vpt_baseline', 'vpt_pseudo_baseline', \n",
    "    'teacher_student',\n",
    "]"
   ]
  },
  {
   "cell_type": "code",
   "execution_count": 3,
   "id": "single-resource",
   "metadata": {},
   "outputs": [
    {
     "name": "stdout",
     "output_type": "stream",
     "text": [
      "teacher_student\n"
     ]
    }
   ],
   "source": [
    "model = models_list[-1]\n",
    "print(model)\n",
    "filename = f\"results/results_model_{model}.json\"\n",
    "\n",
    "data = [json.loads(i) for i in open(filename,'r').readlines()]"
   ]
  },
  {
   "cell_type": "code",
   "execution_count": 5,
   "id": "monetary-lewis",
   "metadata": {},
   "outputs": [
    {
     "name": "stdout",
     "output_type": "stream",
     "text": [
      "Mean STD accuracy: 82.76\n",
      "Std STD accuracy: 0.006392898964132173\n",
      "95% STD confidence interval 0.89\n",
      "\n",
      "\n",
      "Mean SEEN accuracy: 75.78\n",
      "Std SEEN accuracy: 0.005193545968350561\n",
      "95% SEEN confidence interval 0.72\n",
      "\n",
      "\n",
      "Mean UNSEEN accuracy: 78.92\n",
      "Std UNSEEN accuracy: 0.008059541466209097\n",
      "95% UNSEEN confidence interval 1.12\n",
      "\n",
      "\n",
      "Mean HARMONIC accuracy: 77.32\n",
      "Std HARMONIC accuracy: 0.004679945524518792\n",
      "95% HARMONIC confidence interval 0.65\n"
     ]
    }
   ],
   "source": [
    "std_accuracies = []\n",
    "gen_accuracies = []\n",
    "seen_accuracies = []\n",
    "unseen_accuracies = []\n",
    "harmonic_accuracies = []\n",
    "\n",
    "fix_num = 0\n",
    "\n",
    "\n",
    "for m in data:\n",
    "    # Here change and filter data depending on what results we want/\n",
    "    # For instance, let's assume we want \n",
    "    if (\n",
    "        (m['config']['DATASET_NAME'] == 'Flowers102')  \\\n",
    "         and (m['config']['VIS_ENCODER'] == 'ViT-B/32') \\\n",
    "         and (m['config']['SPLIT_SEED'] == 500) \\\n",
    "    ):\n",
    "        std_accuracies.append(m['std_accuracy'])\n",
    "        gen_accuracies.append(m['gen_accuracy'])\n",
    "        seen_accuracies.append(m['gen_seen'])\n",
    "        unseen_accuracies.append(m['gen_unseen'])\n",
    "        harmonic_accuracies.append(st.hmean([m['gen_seen'], m['gen_unseen']]))\n",
    "        \n",
    "std_accuracies = std_accuracies[fix_num:]\n",
    "gen_accuracies = gen_accuracies[fix_num:]\n",
    "seen_accuracies = seen_accuracies[fix_num:]\n",
    "unseen_accuracies = unseen_accuracies[fix_num:]\n",
    "harmonic_accuracies = harmonic_accuracies[fix_num:]\n",
    "\n",
    "print(f\"Mean STD accuracy: {round((np.sum(std_accuracies)/len(std_accuracies))*100, 2)}\")\n",
    "print(f\"Std STD accuracy: {np.std(std_accuracies)}\")\n",
    "interval = st.t.interval(alpha=0.95, df=len(std_accuracies)-1, loc=np.mean(std_accuracies), scale=st.sem(std_accuracies)) \n",
    "print(f\"95% STD confidence interval {round((np.sum(std_accuracies)/len(std_accuracies) - interval[0])*100, 2)}\")\n",
    "print('\\n')\n",
    "\n",
    "print(f\"Mean SEEN accuracy: {round((np.sum(seen_accuracies)/len(seen_accuracies))*100, 2)}\")\n",
    "print(f\"Std SEEN accuracy: {np.std(seen_accuracies)}\")\n",
    "interval = st.t.interval(alpha=0.95, df=len(seen_accuracies)-1, loc=np.mean(seen_accuracies), scale=st.sem(seen_accuracies)) \n",
    "print(f\"95% SEEN confidence interval {round((np.sum(seen_accuracies)/len(seen_accuracies) - interval[0])*100, 2)}\")\n",
    "print('\\n')\n",
    "\n",
    "print(f\"Mean UNSEEN accuracy: {round((np.sum(unseen_accuracies)/len(unseen_accuracies))*100,2)}\")\n",
    "print(f\"Std UNSEEN accuracy: {np.std(unseen_accuracies)}\")\n",
    "interval = st.t.interval(alpha=0.95, df=len(unseen_accuracies)-1, loc=np.mean(unseen_accuracies), scale=st.sem(unseen_accuracies)) \n",
    "print(f\"95% UNSEEN confidence interval {round((np.sum(unseen_accuracies)/len(unseen_accuracies) - interval[0])*100,2)}\")\n",
    "print('\\n')\n",
    "\n",
    "print(f\"Mean HARMONIC accuracy: {round((np.sum(harmonic_accuracies)/len(harmonic_accuracies))*100, 2)}\")\n",
    "print(f\"Std HARMONIC accuracy: {np.std(harmonic_accuracies)}\")\n",
    "interval = st.t.interval(alpha=0.95, df=len(harmonic_accuracies)-1, loc=np.mean(harmonic_accuracies), scale=st.sem(harmonic_accuracies)) \n",
    "print(f\"95% HARMONIC confidence interval {round((np.sum(harmonic_accuracies)/len(harmonic_accuracies) - interval[0])*100, 2)}\")"
   ]
  },
  {
   "cell_type": "code",
   "execution_count": 6,
   "id": "literary-israeli",
   "metadata": {},
   "outputs": [
    {
     "data": {
      "text/plain": [
       "[0.7559820538384845,\n",
       " 0.7619641076769691,\n",
       " 0.7485044865403788,\n",
       " 0.7597208374875374,\n",
       " 0.7627118644067796]"
      ]
     },
     "execution_count": 6,
     "metadata": {},
     "output_type": "execute_result"
    }
   ],
   "source": [
    "seen_accuracies"
   ]
  },
  {
   "cell_type": "code",
   "execution_count": 7,
   "id": "advanced-nudist",
   "metadata": {},
   "outputs": [
    {
     "data": {
      "text/plain": [
       "[0.7810014038371549,\n",
       " 0.789424426766495,\n",
       " 0.7903603182030885,\n",
       " 0.8034627983153955,\n",
       " 0.7819372952737482]"
      ]
     },
     "execution_count": 7,
     "metadata": {},
     "output_type": "execute_result"
    }
   ],
   "source": [
    "unseen_accuracies"
   ]
  },
  {
   "cell_type": "code",
   "execution_count": 8,
   "id": "friendly-document",
   "metadata": {},
   "outputs": [
    {
     "data": {
      "text/plain": [
       "[0.7682880936356221,\n",
       " 0.7754512368306479,\n",
       " 0.7688631806185371,\n",
       " 0.7809798107472069,\n",
       " 0.7722049354570382]"
      ]
     },
     "execution_count": 8,
     "metadata": {},
     "output_type": "execute_result"
    }
   ],
   "source": [
    "harmonic_accuracies"
   ]
  },
  {
   "cell_type": "code",
   "execution_count": 9,
   "id": "valued-coating",
   "metadata": {},
   "outputs": [
    {
     "data": {
      "text/plain": [
       "[0.8207767898923725,\n",
       " 0.8235844642021526,\n",
       " 0.8296677585400094,\n",
       " 0.8390266729059429,\n",
       " 0.8249883013570426]"
      ]
     },
     "execution_count": 9,
     "metadata": {},
     "output_type": "execute_result"
    }
   ],
   "source": [
    "std_accuracies"
   ]
  },
  {
   "cell_type": "code",
   "execution_count": 369,
   "id": "devoted-greene",
   "metadata": {},
   "outputs": [],
   "source": [
    "def compute_lists(dict_alphas):\n",
    "    stds = []\n",
    "    for i in sorted(dict_alphas):\n",
    "        stds.append(dict_alphas[i]['mean_std'])\n",
    "    err_stds = []\n",
    "    for i in sorted(dict_alphas):\n",
    "        err_stds.append(dict_alphas[i]['95_std'])\n",
    "\n",
    "    seens = []\n",
    "    for i in sorted(dict_alphas):\n",
    "        seens.append(dict_alphas[i]['mean_seen'])\n",
    "    err_seens = []\n",
    "    for i in sorted(dict_alphas):\n",
    "        err_seens.append(dict_alphas[i]['95_seen'])\n",
    "\n",
    "    unseens = []\n",
    "    for i in sorted(dict_alphas):\n",
    "        unseens.append(dict_alphas[i]['mean_unseen'])\n",
    "    err_unseens = []\n",
    "    for i in sorted(dict_alphas):\n",
    "        err_unseens.append(dict_alphas[i]['95_unseen'])\n",
    "\n",
    "    harms = []\n",
    "    for i in sorted(dict_alphas):\n",
    "        harms.append(dict_alphas[i]['mean_harm'])\n",
    "    err_harms = []\n",
    "    for i in sorted(dict_alphas):\n",
    "        err_harms.append(dict_alphas[i]['95_harm'])\n",
    "        \n",
    "    return stds, err_stds, seens, err_seens, unseens, err_unseens, harms, err_harms\n",
    "\n",
    "def plot_lines(name, \n",
    "               stds,\n",
    "               err_stds, \n",
    "               seens, \n",
    "               err_seens, \n",
    "               unseens, \n",
    "               err_unseens, \n",
    "               harms, \n",
    "               err_harms,\n",
    "              zsl,\n",
    "              s,\n",
    "              u,\n",
    "              h):\n",
    "    \n",
    "    plt.errorbar(range(11), stds, yerr=err_stds, fmt='-o', label='ZSL')\n",
    "    plt.errorbar(range(11), seens, yerr=err_seens, fmt='-o', label='S')\n",
    "    plt.errorbar(range(11), unseens, yerr=err_unseens, fmt='-o', label='U')\n",
    "    plt.errorbar(range(11), harms, yerr=err_harms, fmt='-o', label='H')\n",
    "    plt.xticks(range(11), [round(n,1) for n in np.arange(0,1.1,0.1)])\n",
    "    plt.ylim(0,100)\n",
    "    plt.title(f'{name} - Mix Prompts - Seen Init', fontsize=15)\n",
    "    plt.xlabel('Alpha', fontsize=13)\n",
    "    plt.ylabel('Accuracy (%)', fontsize=13)\n",
    "    plt.axhline(y = zsl, color = 'b', linestyle = '-', label='ZSL w Labels')\n",
    "    plt.axhline(y = s, color = 'orange', linestyle = '-.', label='S w Labels')\n",
    "    plt.axhline(y = u, color = 'green', linestyle = ':', label='U w Labels')\n",
    "    plt.axhline(y = h, color = 'red', linestyle = '--', label='H w Labels')\n",
    "    plt.legend(loc='center left', bbox_to_anchor=(1, 0.5))\n",
    "    plt.show()"
   ]
  },
  {
   "cell_type": "code",
   "execution_count": 341,
   "id": "quality-finish",
   "metadata": {},
   "outputs": [],
   "source": [
    "# Here we can add all the methods we have/want\n",
    "models_list = ['mix_vpt_baseline',\n",
    "               'combo_vpt_baseline',\n",
    "               'after_combo_vpt_baseline',\n",
    "               'post_vpt_baseline',\n",
    "]"
   ]
  },
  {
   "cell_type": "code",
   "execution_count": 393,
   "id": "specialized-isolation",
   "metadata": {},
   "outputs": [
    {
     "name": "stdout",
     "output_type": "stream",
     "text": [
      "mix_vpt_baseline\n"
     ]
    }
   ],
   "source": [
    "model = models_list[0]\n",
    "print(model)\n",
    "filename = f\"results/results_model_{model}.json\"\n",
    "\n",
    "data = [json.loads(i) for i in open(filename,'r').readlines()]"
   ]
  },
  {
   "cell_type": "code",
   "execution_count": 394,
   "id": "becoming-sailing",
   "metadata": {},
   "outputs": [
    {
     "data": {
      "text/plain": [
       "array([0. , 0.1, 0.2, 0.3, 0.4, 0.5, 0.6, 0.7, 0.8, 0.9, 1. ])"
      ]
     },
     "execution_count": 394,
     "metadata": {},
     "output_type": "execute_result"
    }
   ],
   "source": [
    "np.arange(0,1.1,0.1)"
   ]
  },
  {
   "cell_type": "code",
   "execution_count": 402,
   "id": "occupational-booth",
   "metadata": {},
   "outputs": [
    {
     "name": "stdout",
     "output_type": "stream",
     "text": [
      "ALPHA: 0.0\n",
      "Mean STD accuracy: 64.49\n",
      "Std STD accuracy: 0.015720190496822443\n",
      "95% STD confidence interval 2.18\n",
      "\n",
      "\n",
      "Mean SEEN accuracy: 82.17\n",
      "Std SEEN accuracy: 0.01647223575246948\n",
      "95% SEEN confidence interval 2.29\n",
      "\n",
      "\n",
      "Mean UNSEEN accuracy: 51.25\n",
      "Std UNSEEN accuracy: 0.008944498120333443\n",
      "95% UNSEEN confidence interval 1.24\n",
      "\n",
      "\n",
      "Mean HARMONIC accuracy: 63.11\n",
      "Std HARMONIC accuracy: 0.004818818659910794\n",
      "95% HARMONIC confidence interval 0.67\n",
      "ALPHA: 0.1\n",
      "Mean STD accuracy: 72.81\n",
      "Std STD accuracy: 0.00500505080285296\n",
      "95% STD confidence interval 0.69\n",
      "\n",
      "\n",
      "Mean SEEN accuracy: 70.02\n",
      "Std SEEN accuracy: 0.01943809563901547\n",
      "95% SEEN confidence interval 2.7\n",
      "\n",
      "\n",
      "Mean UNSEEN accuracy: 59.14\n",
      "Std UNSEEN accuracy: 0.023098513559803274\n",
      "95% UNSEEN confidence interval 3.21\n",
      "\n",
      "\n",
      "Mean HARMONIC accuracy: 64.06\n",
      "Std HARMONIC accuracy: 0.009454888480696373\n",
      "95% HARMONIC confidence interval 1.31\n",
      "ALPHA: 0.2\n",
      "Mean STD accuracy: 74.07\n",
      "Std STD accuracy: 0.006573929556887585\n",
      "95% STD confidence interval 0.91\n",
      "\n",
      "\n",
      "Mean SEEN accuracy: 67.83\n",
      "Std SEEN accuracy: 0.01818646579310819\n",
      "95% SEEN confidence interval 2.52\n",
      "\n",
      "\n",
      "Mean UNSEEN accuracy: 61.08\n",
      "Std UNSEEN accuracy: 0.019265274642697342\n",
      "95% UNSEEN confidence interval 2.67\n",
      "\n",
      "\n",
      "Mean HARMONIC accuracy: 64.23\n",
      "Std HARMONIC accuracy: 0.009112124864064855\n",
      "95% HARMONIC confidence interval 1.26\n",
      "ALPHA: 0.3\n",
      "Mean STD accuracy: 74.36\n",
      "Std STD accuracy: 0.0032822981594291282\n",
      "95% STD confidence interval 0.46\n",
      "\n",
      "\n",
      "Mean SEEN accuracy: 64.91\n",
      "Std SEEN accuracy: 0.02149843584756699\n",
      "95% SEEN confidence interval 2.98\n",
      "\n",
      "\n",
      "Mean UNSEEN accuracy: 61.91\n",
      "Std UNSEEN accuracy: 0.0183037971133439\n",
      "95% UNSEEN confidence interval 2.54\n",
      "\n",
      "\n",
      "Mean HARMONIC accuracy: 63.33\n",
      "Std HARMONIC accuracy: 0.010244482326749887\n",
      "95% HARMONIC confidence interval 1.42\n",
      "ALPHA: 0.4\n",
      "Mean STD accuracy: 74.86\n",
      "Std STD accuracy: 0.005764665828520188\n",
      "95% STD confidence interval 0.8\n",
      "\n",
      "\n",
      "Mean SEEN accuracy: 62.52\n",
      "Std SEEN accuracy: 0.015571703503421195\n",
      "95% SEEN confidence interval 2.16\n",
      "\n",
      "\n",
      "Mean UNSEEN accuracy: 63.48\n",
      "Std UNSEEN accuracy: 0.019281635041171738\n",
      "95% UNSEEN confidence interval 2.68\n",
      "\n",
      "\n",
      "Mean HARMONIC accuracy: 62.97\n",
      "Std HARMONIC accuracy: 0.01231564776656205\n",
      "95% HARMONIC confidence interval 1.71\n",
      "ALPHA: 0.5\n",
      "Mean STD accuracy: 75.61\n",
      "Std STD accuracy: 0.004830505531329502\n",
      "95% STD confidence interval 0.67\n",
      "\n",
      "\n",
      "Mean SEEN accuracy: 62.12\n",
      "Std SEEN accuracy: 0.025903340764769706\n",
      "95% SEEN confidence interval 3.6\n",
      "\n",
      "\n",
      "Mean UNSEEN accuracy: 63.09\n",
      "Std UNSEEN accuracy: 0.012959308694755338\n",
      "95% UNSEEN confidence interval 1.8\n",
      "\n",
      "\n",
      "Mean HARMONIC accuracy: 62.58\n",
      "Std HARMONIC accuracy: 0.01725765270444553\n",
      "95% HARMONIC confidence interval 2.4\n",
      "ALPHA: 0.6\n",
      "Mean STD accuracy: 76.31\n",
      "Std STD accuracy: 0.004282662120223701\n",
      "95% STD confidence interval 0.59\n",
      "\n",
      "\n",
      "Mean SEEN accuracy: 62.75\n",
      "Std SEEN accuracy: 0.014388224725324023\n",
      "95% SEEN confidence interval 2.0\n",
      "\n",
      "\n",
      "Mean UNSEEN accuracy: 63.66\n",
      "Std UNSEEN accuracy: 0.008236908086359624\n",
      "95% UNSEEN confidence interval 1.14\n",
      "\n",
      "\n",
      "Mean HARMONIC accuracy: 63.19\n",
      "Std HARMONIC accuracy: 0.007471257255307753\n",
      "95% HARMONIC confidence interval 1.04\n",
      "ALPHA: 0.7\n",
      "Mean STD accuracy: 76.72\n",
      "Std STD accuracy: 0.005240992044922777\n",
      "95% STD confidence interval 0.73\n",
      "\n",
      "\n",
      "Mean SEEN accuracy: 60.33\n",
      "Std SEEN accuracy: 0.017499992722301603\n",
      "95% SEEN confidence interval 2.43\n",
      "\n",
      "\n",
      "Mean UNSEEN accuracy: 62.81\n",
      "Std UNSEEN accuracy: 0.018249643039829445\n",
      "95% UNSEEN confidence interval 2.53\n",
      "\n",
      "\n",
      "Mean HARMONIC accuracy: 61.52\n",
      "Std HARMONIC accuracy: 0.011706185069348226\n",
      "95% HARMONIC confidence interval 1.63\n",
      "ALPHA: 0.8\n",
      "Mean STD accuracy: 76.84\n",
      "Std STD accuracy: 0.008829182154475073\n",
      "95% STD confidence interval 1.23\n",
      "\n",
      "\n",
      "Mean SEEN accuracy: 61.19\n",
      "Std SEEN accuracy: 0.010403586793955267\n",
      "95% SEEN confidence interval 1.44\n",
      "\n",
      "\n",
      "Mean UNSEEN accuracy: 62.6\n",
      "Std UNSEEN accuracy: 0.01652954912067574\n",
      "95% UNSEEN confidence interval 2.29\n",
      "\n",
      "\n",
      "Mean HARMONIC accuracy: 61.88\n",
      "Std HARMONIC accuracy: 0.01119566659939344\n",
      "95% HARMONIC confidence interval 1.55\n",
      "ALPHA: 0.9\n",
      "Mean STD accuracy: 76.46\n",
      "Std STD accuracy: 0.007919212279384637\n",
      "95% STD confidence interval 1.1\n",
      "\n",
      "\n",
      "Mean SEEN accuracy: 61.3\n",
      "Std SEEN accuracy: 0.015559889461312704\n",
      "95% SEEN confidence interval 2.16\n",
      "\n",
      "\n",
      "Mean UNSEEN accuracy: 63.01\n",
      "Std UNSEEN accuracy: 0.0233965371897048\n",
      "95% UNSEEN confidence interval 3.25\n",
      "\n",
      "\n",
      "Mean HARMONIC accuracy: 62.14\n",
      "Std HARMONIC accuracy: 0.018189581924116113\n",
      "95% HARMONIC confidence interval 2.53\n",
      "ALPHA: 1.0\n",
      "Mean STD accuracy: 76.63\n",
      "Std STD accuracy: 0.007155745382729185\n",
      "95% STD confidence interval 0.99\n",
      "\n",
      "\n",
      "Mean SEEN accuracy: 60.89\n",
      "Std SEEN accuracy: 0.015027574639664901\n",
      "95% SEEN confidence interval 2.09\n",
      "\n",
      "\n",
      "Mean UNSEEN accuracy: 63.46\n",
      "Std UNSEEN accuracy: 0.005936827899729981\n",
      "95% UNSEEN confidence interval 0.82\n",
      "\n",
      "\n",
      "Mean HARMONIC accuracy: 62.13\n",
      "Std HARMONIC accuracy: 0.006565977320237158\n",
      "95% HARMONIC confidence interval 0.91\n"
     ]
    }
   ],
   "source": [
    "dict_alphas = {}\n",
    "fix_num = 0\n",
    "\n",
    "for a in np.arange(0,1.1,0.1):\n",
    "    std_accuracies = []\n",
    "    gen_accuracies = []\n",
    "    seen_accuracies = []\n",
    "    unseen_accuracies = []\n",
    "    harmonic_accuracies = []\n",
    "    a = round(a, 1)\n",
    "    print(f\"ALPHA: {a}\")\n",
    "    for m in data:\n",
    "        # Here change and filter data depending on what results we want/\n",
    "        # For instance, let's assume we want \n",
    "        if (\n",
    "            (m['config']['DATASET_NAME'] == 'Flowers102')  \\\n",
    "             and (m['config']['VIS_ENCODER'] == 'ViT-B/32') \\\n",
    "             and (m['config']['SPLIT_SEED'] == 500) \\\n",
    "             and (m['config']['ALPHA'] == a)\n",
    "        ):\n",
    "            std_accuracies.append(m['std_accuracy'])\n",
    "            gen_accuracies.append(m['gen_accuracy'])\n",
    "            seen_accuracies.append(m['gen_seen'])\n",
    "            unseen_accuracies.append(m['gen_unseen'])\n",
    "            harmonic_accuracies.append(st.hmean([m['gen_seen'], m['gen_unseen']]))\n",
    "\n",
    "    std_accuracies = std_accuracies[fix_num:]\n",
    "    gen_accuracies = gen_accuracies[fix_num:]\n",
    "    seen_accuracies = seen_accuracies[fix_num:]\n",
    "    unseen_accuracies = unseen_accuracies[fix_num:]\n",
    "    harmonic_accuracies = harmonic_accuracies[fix_num:]\n",
    "\n",
    "    print(f\"Mean STD accuracy: {round((np.sum(std_accuracies)/len(std_accuracies))*100, 2)}\")\n",
    "    print(f\"Std STD accuracy: {np.std(std_accuracies)}\")\n",
    "    interval_1 = st.t.interval(alpha=0.95, df=len(std_accuracies)-1, loc=np.mean(std_accuracies), scale=st.sem(std_accuracies)) \n",
    "    print(f\"95% STD confidence interval {round((np.sum(std_accuracies)/len(std_accuracies) - interval_1[0])*100, 2)}\")\n",
    "    print('\\n')\n",
    "\n",
    "    print(f\"Mean SEEN accuracy: {round((np.sum(seen_accuracies)/len(seen_accuracies))*100, 2)}\")\n",
    "    print(f\"Std SEEN accuracy: {np.std(seen_accuracies)}\")\n",
    "    interval_2 = st.t.interval(alpha=0.95, df=len(seen_accuracies)-1, loc=np.mean(seen_accuracies), scale=st.sem(seen_accuracies)) \n",
    "    print(f\"95% SEEN confidence interval {round((np.sum(seen_accuracies)/len(seen_accuracies) - interval_2[0])*100, 2)}\")\n",
    "    print('\\n')\n",
    "\n",
    "    print(f\"Mean UNSEEN accuracy: {round((np.sum(unseen_accuracies)/len(unseen_accuracies))*100,2)}\")\n",
    "    print(f\"Std UNSEEN accuracy: {np.std(unseen_accuracies)}\")\n",
    "    interval_3 = st.t.interval(alpha=0.95, df=len(unseen_accuracies)-1, loc=np.mean(unseen_accuracies), scale=st.sem(unseen_accuracies)) \n",
    "    print(f\"95% UNSEEN confidence interval {round((np.sum(unseen_accuracies)/len(unseen_accuracies) - interval_3[0])*100,2)}\")\n",
    "    print('\\n')\n",
    "\n",
    "    print(f\"Mean HARMONIC accuracy: {round((np.sum(harmonic_accuracies)/len(harmonic_accuracies))*100, 2)}\")\n",
    "    print(f\"Std HARMONIC accuracy: {np.std(harmonic_accuracies)}\")\n",
    "    interval_4 = st.t.interval(alpha=0.95, df=len(harmonic_accuracies)-1, loc=np.mean(harmonic_accuracies), scale=st.sem(harmonic_accuracies)) \n",
    "    print(f\"95% HARMONIC confidence interval {round((np.sum(harmonic_accuracies)/len(harmonic_accuracies) - interval_4[0])*100, 2)}\")\n",
    "    \n",
    "    dict_alphas[a] = {'mean_std': round((np.sum(std_accuracies)/len(std_accuracies))*100, 2) ,\n",
    "                     '95_std': round((np.sum(std_accuracies)/len(std_accuracies) - interval_1[0])*100, 2),\n",
    "                     'mean_seen': round((np.sum(seen_accuracies)/len(seen_accuracies))*100, 2),\n",
    "                     '95_seen': round((np.sum(seen_accuracies)/len(seen_accuracies) - interval_2[0])*100, 2),\n",
    "                     'mean_unseen': round((np.sum(unseen_accuracies)/len(unseen_accuracies))*100,2),\n",
    "                     '95_unseen': round((np.sum(unseen_accuracies)/len(unseen_accuracies) - interval_3[0])*100,2),\n",
    "                     'mean_harm': round((np.sum(harmonic_accuracies)/len(harmonic_accuracies))*100, 2),\n",
    "                     '95_harm': round((np.sum(harmonic_accuracies)/len(harmonic_accuracies) - interval_4[0])*100, 2),}"
   ]
  },
  {
   "cell_type": "code",
   "execution_count": 396,
   "id": "recovered-acquisition",
   "metadata": {},
   "outputs": [],
   "source": [
    "import matplotlib.pyplot as plt"
   ]
  },
  {
   "cell_type": "code",
   "execution_count": 397,
   "id": "applicable-inclusion",
   "metadata": {},
   "outputs": [
    {
     "data": {
      "image/png": "[encoded data removed]",
      "text/plain": [
       "<Figure size 432x288 with 1 Axes>"
      ]
     },
     "metadata": {
      "needs_background": "light"
     },
     "output_type": "display_data"
    }
   ],
   "source": [
    "# plt.plot(stds, '-o')\n",
    "stds, err_stds, \\\n",
    "seens, err_seens, \\\n",
    "unseens, err_unseens, \\\n",
    "harms, err_harms = compute_lists(dict_alphas)\n",
    "\n",
    "plot_lines('EuroSAT', \n",
    "               stds,\n",
    "               err_stds, \n",
    "               seens, \n",
    "               err_seens, \n",
    "               unseens, \n",
    "               err_unseens, \n",
    "               harms, \n",
    "               err_harms,\n",
    "          89,\n",
    "          69,\n",
    "          81,\n",
    "          76)"
   ]
  },
  {
   "cell_type": "code",
   "execution_count": 399,
   "id": "meaning-province",
   "metadata": {},
   "outputs": [
    {
     "data": {
      "image/png": "[encoded data removed]",
      "text/plain": [
       "<Figure size 432x288 with 1 Axes>"
      ]
     },
     "metadata": {
      "needs_background": "light"
     },
     "output_type": "display_data"
    }
   ],
   "source": [
    "# plt.plot(stds, '-o')\n",
    "stds, err_stds, \\\n",
    "seens, err_seens, \\\n",
    "unseens, err_unseens, \\\n",
    "harms, err_harms = compute_lists(dict_alphas)\n",
    "\n",
    "plot_lines('DTD', \n",
    "               stds,\n",
    "               err_stds, \n",
    "               seens, \n",
    "               err_seens, \n",
    "               unseens, \n",
    "               err_unseens, \n",
    "               harms, \n",
    "               err_harms,\n",
    "          61,\n",
    "          47,\n",
    "          56,\n",
    "          51)"
   ]
  },
  {
   "cell_type": "code",
   "execution_count": 401,
   "id": "ignored-lebanon",
   "metadata": {},
   "outputs": [
    {
     "data": {
      "image/png": "[encoded data removed]",
      "text/plain": [
       "<Figure size 432x288 with 1 Axes>"
      ]
     },
     "metadata": {
      "needs_background": "light"
     },
     "output_type": "display_data"
    }
   ],
   "source": [
    "# plt.plot(stds, '-o')\n",
    "stds, err_stds, \\\n",
    "seens, err_seens, \\\n",
    "unseens, err_unseens, \\\n",
    "harms, err_harms = compute_lists(dict_alphas)\n",
    "\n",
    "plot_lines('RESICS45', \n",
    "               stds,\n",
    "               err_stds, \n",
    "               seens, \n",
    "               err_seens, \n",
    "               unseens, \n",
    "               err_unseens, \n",
    "               harms, \n",
    "               err_harms,\n",
    "          77,\n",
    "          65,\n",
    "          69,\n",
    "          67)"
   ]
  },
  {
   "cell_type": "code",
   "execution_count": 403,
   "id": "concrete-translation",
   "metadata": {},
   "outputs": [
    {
     "data": {
      "image/png": "[encoded data removed]",
      "text/plain": [
       "<Figure size 432x288 with 1 Axes>"
      ]
     },
     "metadata": {
      "needs_background": "light"
     },
     "output_type": "display_data"
    }
   ],
   "source": [
    "# plt.plot(stds, '-o')\n",
    "stds, err_stds, \\\n",
    "seens, err_seens, \\\n",
    "unseens, err_unseens, \\\n",
    "harms, err_harms = compute_lists(dict_alphas)\n",
    "\n",
    "plot_lines('Flowers102', \n",
    "               stds,\n",
    "               err_stds, \n",
    "               seens, \n",
    "               err_seens, \n",
    "               unseens, \n",
    "               err_unseens, \n",
    "               harms, \n",
    "               err_harms,\n",
    "          75,\n",
    "          71,\n",
    "          71,\n",
    "          71)"
   ]
  },
  {
   "cell_type": "code",
   "execution_count": 405,
   "id": "arabic-marble",
   "metadata": {},
   "outputs": [
    {
     "name": "stdout",
     "output_type": "stream",
     "text": [
      "Collecting torchsort\n",
      "  Using cached torchsort-0.1.9.tar.gz (12 kB)\n",
      "  Preparing metadata (setup.py) ... \u001b[?25ldone\n",
      "\u001b[?25hRequirement already satisfied: torch in /Users/menga/miniconda3/lib/python3.8/site-packages (from torchsort) (1.7.1)\n",
      "Requirement already satisfied: typing_extensions in /Users/menga/miniconda3/lib/python3.8/site-packages (from torch->torchsort) (3.7.4.3)\n",
      "Requirement already satisfied: numpy in /Users/menga/miniconda3/lib/python3.8/site-packages (from torch->torchsort) (1.19.2)\n",
      "Building wheels for collected packages: torchsort\n",
      "  Building wheel for torchsort (setup.py) ... \u001b[?25ldone\n",
      "\u001b[?25h  Created wheel for torchsort: filename=torchsort-0.1.9-cp38-cp38-macosx_10_9_x86_64.whl size=90029 sha256=7e8078fd64392c403351ff3ba1f3203cd59fb97b66f8417c6870d06c9f4206ee\n",
      "  Stored in directory: /Users/menga/Library/Caches/pip/wheels/8c/57/49/98ceaf2cc643111a82a6863cdaead4fa85ebb4d71d83c58a83\n",
      "Successfully built torchsort\n",
      "Installing collected packages: torchsort\n",
      "Successfully installed torchsort-0.1.9\n",
      "\n",
      "\u001b[1m[\u001b[0m\u001b[34;49mnotice\u001b[0m\u001b[1;39;49m]\u001b[0m\u001b[39;49m A new release of pip available: \u001b[0m\u001b[31;49m22.3.1\u001b[0m\u001b[39;49m -> \u001b[0m\u001b[32;49m23.0.1\u001b[0m\n",
      "\u001b[1m[\u001b[0m\u001b[34;49mnotice\u001b[0m\u001b[1;39;49m]\u001b[0m\u001b[39;49m To update, run: \u001b[0m\u001b[32;49mpip install --upgrade pip\u001b[0m\n"
     ]
    }
   ],
   "source": [
    "!pip install torchsort"
   ]
  },
  {
   "cell_type": "code",
   "execution_count": 406,
   "id": "current-paraguay",
   "metadata": {},
   "outputs": [
    {
     "data": {
      "text/plain": [
       "(tensor([[-5.5470e-02,  2.9802e-09,  5.5470e-02,  1.1094e-01, -1.1094e-01]]),)"
      ]
     },
     "execution_count": 406,
     "metadata": {},
     "output_type": "execute_result"
    }
   ],
   "source": [
    "import torch\n",
    "import torchsort\n",
    "\n",
    "def spearmanr(pred, target, **kw):\n",
    "    pred = torchsort.soft_rank(pred, **kw)\n",
    "    target = torchsort.soft_rank(target, **kw)\n",
    "    pred = pred - pred.mean()\n",
    "    pred = pred / pred.norm()\n",
    "    target = target - target.mean()\n",
    "    target = target / target.norm()\n",
    "    return (pred * target).sum()\n",
    "\n",
    "pred = torch.tensor([[1., 2., 3., 4., 5.]], requires_grad=True)\n",
    "target = torch.tensor([[5., 6., 7., 8., 7.]])\n",
    "spearman = spearmanr(pred, target)\n",
    "# tensor(0.8321)\n",
    "\n",
    "torch.autograd.grad(spearman, pred)"
   ]
  },
  {
   "cell_type": "code",
   "execution_count": 407,
   "id": "handmade-cannon",
   "metadata": {},
   "outputs": [],
   "source": [
    "pred = torch.tensor([[0.2, 0.4, 0.1, 0.3, 0.5]], requires_grad=True)\n",
    "target = torch.tensor([[0.4, 0.2, 0.5, 0.3, 0.1]])"
   ]
  },
  {
   "cell_type": "code",
   "execution_count": 408,
   "id": "union-associate",
   "metadata": {},
   "outputs": [],
   "source": [
    "spearman = spearmanr(pred, target)"
   ]
  },
  {
   "cell_type": "code",
   "execution_count": 409,
   "id": "sealed-control",
   "metadata": {},
   "outputs": [
    {
     "data": {
      "text/plain": [
       "tensor(-1.0000, grad_fn=<SumBackward0>)"
      ]
     },
     "execution_count": 409,
     "metadata": {},
     "output_type": "execute_result"
    }
   ],
   "source": [
    "spearman"
   ]
  },
  {
   "cell_type": "code",
   "execution_count": 258,
   "id": "circular-mobile",
   "metadata": {},
   "outputs": [
    {
     "data": {
      "text/plain": [
       "[0.5786533665835412,\n",
       " 0.5786533665835412,\n",
       " 0.5660847880299252,\n",
       " 0.5342643391521197,\n",
       " 0.5314713216957606,\n",
       " 0.5800498753117207,\n",
       " 0.5781546134663341]"
      ]
     },
     "execution_count": 258,
     "metadata": {},
     "output_type": "execute_result"
    }
   ],
   "source": [
    "unseen_accuracies"
   ]
  },
  {
   "cell_type": "code",
   "execution_count": 259,
   "id": "gorgeous-marine",
   "metadata": {},
   "outputs": [
    {
     "data": {
      "text/plain": [
       "[0.684705011603635,\n",
       " 0.684705011603635,\n",
       " 0.6727881978480763,\n",
       " 0.6515637865169928,\n",
       " 0.6509924874542248,\n",
       " 0.677908121449633,\n",
       " 0.6844654818035285]"
      ]
     },
     "execution_count": 259,
     "metadata": {},
     "output_type": "execute_result"
    }
   ],
   "source": [
    "harmonic_accuracies"
   ]
  },
  {
   "cell_type": "code",
   "execution_count": 260,
   "id": "guided-bosnia",
   "metadata": {},
   "outputs": [
    {
     "data": {
      "text/plain": [
       "[0.7275810473815462,\n",
       " 0.7275810473815462,\n",
       " 0.7275810473815462,\n",
       " 0.7208977556109726,\n",
       " 0.710423940149626,\n",
       " 0.7270822942643391,\n",
       " 0.7279800498753117]"
      ]
     },
     "execution_count": 260,
     "metadata": {},
     "output_type": "execute_result"
    }
   ],
   "source": [
    "std_accuracies"
   ]
  },
  {
   "cell_type": "markdown",
   "id": "collected-developer",
   "metadata": {},
   "source": [
    "In the google sheets, I report the mean and the confidence interval."
   ]
  },
  {
   "cell_type": "code",
   "execution_count": 10,
   "id": "forty-batman",
   "metadata": {},
   "outputs": [],
   "source": [
    "a = [0.906, 0.772, 0.567, 0.8936]"
   ]
  },
  {
   "cell_type": "code",
   "execution_count": 11,
   "id": "rising-citizenship",
   "metadata": {},
   "outputs": [],
   "source": [
    "b = [0.8175, 0.8405, 0.8705, 0.7975]"
   ]
  },
  {
   "cell_type": "code",
   "execution_count": 12,
   "id": "entertaining-combat",
   "metadata": {},
   "outputs": [
    {
     "data": {
      "text/plain": [
       "0.7984508171723251"
      ]
     },
     "execution_count": 12,
     "metadata": {},
     "output_type": "execute_result"
    }
   ],
   "source": [
    "np.mean(st.hmean([a, b]))"
   ]
  },
  {
   "cell_type": "code",
   "execution_count": 13,
   "id": "respected-venue",
   "metadata": {},
   "outputs": [],
   "source": [
    "import pickle"
   ]
  },
  {
   "cell_type": "code",
   "execution_count": 141,
   "id": "framed-sheet",
   "metadata": {},
   "outputs": [
    {
     "data": {
      "text/plain": [
       "{0: 'airplane',\n",
       " 1: 'airport',\n",
       " 2: 'baseball diamond',\n",
       " 3: 'basketball court',\n",
       " 4: 'beach',\n",
       " 5: 'bridge',\n",
       " 6: 'chaparral',\n",
       " 7: 'church',\n",
       " 8: 'circular farmland',\n",
       " 9: 'cloud',\n",
       " 10: 'commercial area',\n",
       " 11: 'dense residential',\n",
       " 12: 'desert',\n",
       " 13: 'forest',\n",
       " 14: 'freeway',\n",
       " 15: 'golf course',\n",
       " 16: 'ground track field',\n",
       " 17: 'harbor',\n",
       " 18: 'industrial area',\n",
       " 19: 'intersection',\n",
       " 20: 'island',\n",
       " 21: 'lake',\n",
       " 22: 'meadow',\n",
       " 23: 'medium residential',\n",
       " 24: 'mobile home park',\n",
       " 25: 'mountain',\n",
       " 26: 'overpass',\n",
       " 27: 'palace',\n",
       " 28: 'parking lot',\n",
       " 29: 'railway',\n",
       " 30: 'railway station',\n",
       " 31: 'rectangular farmland',\n",
       " 32: 'river',\n",
       " 33: 'roundabout',\n",
       " 34: 'runway',\n",
       " 35: 'sea ice',\n",
       " 36: 'ship',\n",
       " 37: 'snowberg',\n",
       " 38: 'sparse residential',\n",
       " 39: 'stadium',\n",
       " 40: 'storage tank',\n",
       " 41: 'tennis court',\n",
       " 42: 'terrace',\n",
       " 43: 'thermal power station',\n",
       " 44: 'wetland'}"
      ]
     },
     "execution_count": 141,
     "metadata": {},
     "output_type": "execute_result"
    }
   ],
   "source": [
    "classes = []\n",
    "with open(f\"pseudolabels/train.json\", \"r\") as f:\n",
    "    data = json.load(f)\n",
    "    for d in data[\"categories\"]:\n",
    "        classes.append(d[\"name\"].replace(\"_\", \" \"))\n",
    "\n",
    "# classes = []\n",
    "# with open(f\"pseudolabels/flo_classes.txt\", 'r') as file:\n",
    "#     for l in file:\n",
    "#         classes.append(l.strip())\n",
    "\n",
    "class_dict = {i:c for i,c in enumerate(classes)}\n",
    "class_dict"
   ]
  },
  {
   "cell_type": "code",
   "execution_count": 142,
   "id": "ongoing-african",
   "metadata": {},
   "outputs": [],
   "source": [
    "with open('pseudolabels/RESICS45_ViT-B32_14_pseudolabels_split_500.pickle', 'rb') as f:\n",
    "    clip = pickle.load(f)"
   ]
  },
  {
   "cell_type": "code",
   "execution_count": null,
   "id": "rocky-transition",
   "metadata": {},
   "outputs": [],
   "source": []
  },
  {
   "cell_type": "code",
   "execution_count": 124,
   "id": "developing-czech",
   "metadata": {},
   "outputs": [],
   "source": [
    "with open('pseudolabels/Flowers102_teacher_student_ViT-B32_teacher_iter_1_opt_1_pseudolabels_spl_500_s_epochs_50_before_student.pickle', 'rb') as f:\n",
    "#with open('pseudolabels/DTD_teacher_student_ViT-B32_teacher_iter_3_pseudolabels_spl_500.pickle', 'rb') as f:\n",
    "    teacher_bef = pickle.load(f)"
   ]
  },
  {
   "cell_type": "code",
   "execution_count": 123,
   "id": "working-somerset",
   "metadata": {},
   "outputs": [],
   "source": [
    "with open('pseudolabels/Flowers102_teacher_student_ViT-B32_teacher_iter_1_opt_1_pseudolabels_spl_500_s_epochs_50.pickle', 'rb') as f:\n",
    "    teacher = pickle.load(f)"
   ]
  },
  {
   "cell_type": "code",
   "execution_count": 125,
   "id": "sustainable-poetry",
   "metadata": {},
   "outputs": [],
   "source": [
    "with open('pseudolabels/Flowers102_teacher_student_ViT-B32_student_iter_0_opt_1_pseudolabels_spl_500_s_epochs_50.pickle', 'rb') as f:\n",
    "    student = pickle.load(f)"
   ]
  },
  {
   "cell_type": "code",
   "execution_count": 53,
   "id": "quarterly-element",
   "metadata": {},
   "outputs": [],
   "source": [
    "# with open('pseudolabels/Flowers102_ablation_teacher_student_ViT-B32_teacher_iter_2_pseudolabels_spl_500.pickle', 'rb') as f:\n",
    "#     student = pickle.load(f)"
   ]
  },
  {
   "cell_type": "code",
   "execution_count": 113,
   "id": "needed-section",
   "metadata": {},
   "outputs": [
    {
     "data": {
      "text/plain": [
       "78"
      ]
     },
     "execution_count": 113,
     "metadata": {},
     "output_type": "execute_result"
    }
   ],
   "source": [
    "len(list(zip(teacher_bef['filepaths'], teacher_bef['labels'])))"
   ]
  },
  {
   "cell_type": "code",
   "execution_count": 114,
   "id": "enormous-current",
   "metadata": {},
   "outputs": [
    {
     "data": {
      "text/plain": [
       "156"
      ]
     },
     "execution_count": 114,
     "metadata": {},
     "output_type": "execute_result"
    }
   ],
   "source": [
    "len(list(zip(teacher['filepaths'], teacher['labels'])))"
   ]
  },
  {
   "cell_type": "code",
   "execution_count": 115,
   "id": "smaller-petroleum",
   "metadata": {},
   "outputs": [
    {
     "data": {
      "text/plain": [
       "78"
      ]
     },
     "execution_count": 115,
     "metadata": {},
     "output_type": "execute_result"
    }
   ],
   "source": [
    "len(list(zip(student['filepaths'], student['labels'])))"
   ]
  },
  {
   "cell_type": "code",
   "execution_count": 116,
   "id": "processed-supplier",
   "metadata": {},
   "outputs": [
    {
     "data": {
      "text/plain": [
       "56"
      ]
     },
     "execution_count": 116,
     "metadata": {},
     "output_type": "execute_result"
    }
   ],
   "source": [
    "len((set(teacher['filepaths'])).intersection(set(student['filepaths'])))"
   ]
  },
  {
   "cell_type": "code",
   "execution_count": 127,
   "id": "skilled-romania",
   "metadata": {},
   "outputs": [
    {
     "name": "stdout",
     "output_type": "stream",
     "text": [
      "78\n",
      "70\n",
      "0.8974358974358975\n"
     ]
    }
   ],
   "source": [
    "correct = 0\n",
    "for f, l in list(zip(teacher_bef['filepaths'], teacher_bef['labels'])):\n",
    "    #print(f)\n",
    "    #cls = ' '.join(f.split('/')[-1].split('_')[:-1]).strip()\n",
    "    cls = class_dict[int(f.split('/')[-2])]\n",
    "    #cls = (f.split('/')[-2])\n",
    "    #print(cls)\n",
    "    true_cls = class_dict[int(l)]\n",
    "    #print(cls, true_cls)\n",
    "    if cls == true_cls:\n",
    "        correct += 1\n",
    "    else:\n",
    "        continue\n",
    "        print(cls, true_cls)\n",
    "        \n",
    "print(len(teacher_bef['filepaths']))\n",
    "print(correct)\n",
    "print(correct/len(teacher_bef['filepaths']))"
   ]
  },
  {
   "cell_type": "code",
   "execution_count": 128,
   "id": "overall-cocktail",
   "metadata": {},
   "outputs": [
    {
     "name": "stdout",
     "output_type": "stream",
     "text": [
      "156\n",
      "143\n",
      "0.9166666666666666\n"
     ]
    }
   ],
   "source": [
    "correct = 0\n",
    "for f, l in list(zip(teacher['filepaths'], teacher['labels'])):\n",
    "    #print(f)\n",
    "    #cls = ' '.join(f.split('/')[-1].split('_')[:-1]).strip()\n",
    "    cls = class_dict[int(f.split('/')[-2])]\n",
    "    #cls = (f.split('/')[-2])\n",
    "    #print(cls)\n",
    "    true_cls = class_dict[int(l)]\n",
    "    #print(cls, true_cls)\n",
    "    if cls == true_cls:\n",
    "        correct += 1\n",
    "    else:\n",
    "        continue\n",
    "        print(cls, true_cls)\n",
    "        \n",
    "print(len(teacher['filepaths']))\n",
    "print(correct)\n",
    "print(correct/len(teacher['filepaths']))"
   ]
  },
  {
   "cell_type": "code",
   "execution_count": 126,
   "id": "quality-operation",
   "metadata": {},
   "outputs": [
    {
     "name": "stdout",
     "output_type": "stream",
     "text": [
      "78\n",
      "69\n",
      "0.8846153846153846\n"
     ]
    }
   ],
   "source": [
    "correct = 0\n",
    "for f, l in list(zip(student['filepaths'], student['labels'])):\n",
    "    # cls = ' '.join(f.split('/')[-1].split('_')[:-1]).strip()\n",
    "    cls = class_dict[int(f.split('/')[-2])]\n",
    "    #cls = (f.split('/')[-2])\n",
    "    true_cls = class_dict[int(l)]\n",
    "    if cls == true_cls:\n",
    "        correct += 1\n",
    "    else:\n",
    "        continue\n",
    "        print(cls, true_cls)\n",
    "\n",
    "print(len(student['filepaths']))\n",
    "print(correct)\n",
    "print(correct/len(student['filepaths']))"
   ]
  },
  {
   "cell_type": "code",
   "execution_count": 403,
   "id": "suspended-semiconductor",
   "metadata": {},
   "outputs": [
    {
     "data": {
      "text/plain": [
       "212"
      ]
     },
     "execution_count": 403,
     "metadata": {},
     "output_type": "execute_result"
    }
   ],
   "source": [
    "correct"
   ]
  },
  {
   "cell_type": "code",
   "execution_count": 143,
   "id": "split-january",
   "metadata": {},
   "outputs": [
    {
     "name": "stdout",
     "output_type": "stream",
     "text": [
      "252\n",
      "223\n",
      "0.8849206349206349\n"
     ]
    }
   ],
   "source": [
    "correct = 0\n",
    "for f, l in list(zip(clip['filepaths'], clip['labels'])):\n",
    "    cls = ' '.join(f.split('/')[-1].split('_')[:-1]).strip()\n",
    "    #cls = class_dict[int(f.split('/')[-2])]\n",
    "    #cls = (f.split('/')[-2])\n",
    "    true_cls = class_dict[int(l)]\n",
    "    if cls == true_cls:\n",
    "        correct += 1\n",
    "    else:\n",
    "        #print(cls, true_cls)\n",
    "        continue\n",
    "        \n",
    "        \n",
    "print(len(clip['filepaths']))\n",
    "print(correct)\n",
    "print(correct/len(clip['filepaths']))"
   ]
  },
  {
   "cell_type": "code",
   "execution_count": 153,
   "id": "reflected-wellington",
   "metadata": {},
   "outputs": [],
   "source": [
    "from torch.distributions import Categorical\n",
    "import torch"
   ]
  },
  {
   "cell_type": "code",
   "execution_count": 160,
   "id": "excellent-bangladesh",
   "metadata": {},
   "outputs": [],
   "source": [
    "probabilities = torch.tensor([[0.32, 0.21, 0, 0], [0.32, 0.31, 0, 0]])"
   ]
  },
  {
   "cell_type": "code",
   "execution_count": 161,
   "id": "framed-cemetery",
   "metadata": {},
   "outputs": [],
   "source": [
    "# Compute entropies\n",
    "entropies = Categorical(probs=probabilities).entropy().float()"
   ]
  },
  {
   "cell_type": "code",
   "execution_count": 164,
   "id": "starting-documentary",
   "metadata": {},
   "outputs": [
    {
     "data": {
      "text/plain": [
       "tensor([0.6715, 0.6930])"
      ]
     },
     "execution_count": 164,
     "metadata": {},
     "output_type": "execute_result"
    }
   ],
   "source": [
    "entropies"
   ]
  },
  {
   "cell_type": "code",
   "execution_count": 165,
   "id": "prospective-brief",
   "metadata": {},
   "outputs": [],
   "source": [
    "# Get entopy distribution and define threshold\n",
    "threshold = torch.quantile(entropies, 0.1, dim=0).item()"
   ]
  },
  {
   "cell_type": "code",
   "execution_count": 166,
   "id": "scenic-kitchen",
   "metadata": {},
   "outputs": [
    {
     "data": {
      "text/plain": [
       "0.6736088395118713"
      ]
     },
     "execution_count": 166,
     "metadata": {},
     "output_type": "execute_result"
    }
   ],
   "source": [
    "threshold"
   ]
  },
  {
   "cell_type": "code",
   "execution_count": 168,
   "id": "expired-michael",
   "metadata": {},
   "outputs": [
    {
     "data": {
      "text/plain": [
       "tensor([0])"
      ]
     },
     "execution_count": 168,
     "metadata": {},
     "output_type": "execute_result"
    }
   ],
   "source": [
    "certain_samples = torch.where(entropies <= threshold)[0]\n",
    "certain_samples"
   ]
  },
  {
   "cell_type": "code",
   "execution_count": 169,
   "id": "bacterial-tunnel",
   "metadata": {},
   "outputs": [
    {
     "data": {
      "text/plain": [
       "tensor([1])"
      ]
     },
     "execution_count": 169,
     "metadata": {},
     "output_type": "execute_result"
    }
   ],
   "source": [
    "uncertain_samples = torch.where(entropies > threshold)[0]\n",
    "uncertain_samples"
   ]
  },
  {
   "cell_type": "code",
   "execution_count": null,
   "id": "handled-harvey",
   "metadata": {},
   "outputs": [],
   "source": [
    "# Compute entropies\n",
    "entropies = Categorical(probs=probabilities).entropy().float()\n",
    "\n",
    "# Get entopy distribution and define threshold\n",
    "threshold = torch.quantile(entropies, quantile, dim=0).item()\n",
    "#print(f\"Entropy threshold: {threshold}\")\n",
    "\n",
    "# Get set of certain and uncertain predictions\n",
    "certain_samples = torch.where(entropies <= threshold)[0]\n",
    "uncertain_samples = torch.where(entropies > threshold)[0]\n"
   ]
  },
  {
   "cell_type": "code",
   "execution_count": 175,
   "id": "unnecessary-cemetery",
   "metadata": {},
   "outputs": [],
   "source": [
    "x = torch.randn(2, 5)\n",
    "y = torch.randn(2, 5)"
   ]
  },
  {
   "cell_type": "code",
   "execution_count": 184,
   "id": "breeding-choir",
   "metadata": {},
   "outputs": [],
   "source": [
    "sort_x = torch.argsort(x, descending=True)\n",
    "sort_y = torch.argsort(y, descending=True)"
   ]
  },
  {
   "cell_type": "code",
   "execution_count": 235,
   "id": "missing-search",
   "metadata": {},
   "outputs": [
    {
     "name": "stdout",
     "output_type": "stream",
     "text": [
      "k: 5\n",
      "x_k: 5\n",
      "x_d: 1\n",
      "a_d: 1.0\n",
      "x_d: 1\n",
      "a_d: 0.5\n",
      "x_d: 2\n",
      "a_d: 0.6666666666666666\n",
      "x_d: 3\n",
      "a_d: 0.75\n",
      "x_d: 5\n",
      "a_d: 1.0\n",
      "k: 5\n",
      "x_k: 5\n",
      "x_d: 1\n",
      "a_d: 1.0\n",
      "x_d: 2\n",
      "a_d: 1.0\n",
      "x_d: 2\n",
      "a_d: 0.6666666666666666\n",
      "x_d: 4\n",
      "a_d: 1.0\n",
      "x_d: 5\n",
      "a_d: 1.0\n"
     ]
    }
   ],
   "source": [
    "rank_list = []\n",
    "for i in range(sort_x.size()[0]):\n",
    "    l_S = sort_x[i]\n",
    "    l_U = sort_y[i]\n",
    "    rank_list.append(1 - i_rank_biased_overlap(l_S, l_U, p=0.9))"
   ]
  },
  {
   "cell_type": "code",
   "execution_count": 238,
   "id": "distinct-endorsement",
   "metadata": {},
   "outputs": [
    {
     "data": {
      "text/plain": [
       "tensor(0.1172)"
      ]
     },
     "execution_count": 238,
     "metadata": {},
     "output_type": "execute_result"
    }
   ],
   "source": [
    "torch.sum(torch.tensor(rank_list))"
   ]
  },
  {
   "cell_type": "code",
   "execution_count": 196,
   "id": "banner-nashville",
   "metadata": {},
   "outputs": [],
   "source": [
    "import math"
   ]
  },
  {
   "cell_type": "code",
   "execution_count": 231,
   "id": "dominican-career",
   "metadata": {},
   "outputs": [],
   "source": [
    "# i_rank_biased_overlap([c.item() for c in l_S], [c.item() for c in l_U], p=0.9)"
   ]
  },
  {
   "cell_type": "code",
   "execution_count": 230,
   "id": "fuzzy-arctic",
   "metadata": {},
   "outputs": [],
   "source": [
    "# def i_rank_biased_overlap(S,T, p=0.9):\n",
    "#     \"\"\" Takes two lists S and T of any lengths and gives out the RBO Score\n",
    "#     Parameters\n",
    "#     ----------\n",
    "#     S, T : Lists (str, integers)\n",
    "#     p : Weight parameter, giving the influence of the first d\n",
    "#         elements on the final score. p<0<1. Default 0.9 give the top 10 \n",
    "#         elements 86% of the contribution in the final score.\n",
    "    \n",
    "#     Returns\n",
    "#     -------\n",
    "#     Float of RBO score\n",
    "#     \"\"\"\n",
    "    \n",
    "#     # Fixed Terms\n",
    "#     k = max(len(S), len(T))\n",
    "#     print(f\"k: {k}\")\n",
    "#     x_k = len(set(S).intersection(set(T)))\n",
    "#     print(f\"x_k: {x_k}\")\n",
    "    \n",
    "#     summation_term = 0\n",
    "\n",
    "#     # Loop for summation\n",
    "#     # k+1 for the loop to reach the last element (at k) in the bigger list    \n",
    "#     for d in range (1, k+1): \n",
    "#             # Create sets from the lists\n",
    "#             set1 = set(S[:d]) if d < len(S) else set(S)\n",
    "#             set2 = set(T[:d]) if d < len(T) else set(T)\n",
    "            \n",
    "#             # Intersection at depth d\n",
    "#             x_d = len(set1.intersection(set2))\n",
    "#             print(f\"x_d: {x_d}\")\n",
    "#             # Agreement at depth d\n",
    "#             a_d = x_d/d   \n",
    "#             print(f\"a_d: {a_d}\")\n",
    "#             # Summation\n",
    "#             summation_term = summation_term + math.pow(p, d) * a_d\n",
    "\n",
    "#     # Rank Biased Overlap - extrapolated\n",
    "#     rbo_ext = (x_k/k) * math.pow(p, k) + ((1-p)/p * summation_term)\n",
    "\n",
    "#     return rbo_ext"
   ]
  },
  {
   "cell_type": "code",
   "execution_count": 229,
   "id": "dependent-resolution",
   "metadata": {},
   "outputs": [
    {
     "name": "stdout",
     "output_type": "stream",
     "text": [
      "k: 5\n",
      "x_k: 5\n",
      "x_d: 1\n",
      "a_d: 1.0\n",
      "x_d: 2\n",
      "a_d: 1.0\n",
      "x_d: 2\n",
      "a_d: 0.6666666666666666\n",
      "x_d: 4\n",
      "a_d: 1.0\n",
      "x_d: 5\n",
      "a_d: 1.0\n"
     ]
    },
    {
     "data": {
      "text/plain": [
       "tensor(0.9730)"
      ]
     },
     "execution_count": 229,
     "metadata": {},
     "output_type": "execute_result"
    }
   ],
   "source": []
  },
  {
   "cell_type": "code",
   "execution_count": 228,
   "id": "handed-content",
   "metadata": {},
   "outputs": [],
   "source": [
    "def i_rank_biased_overlap(S, T, p=0.9):\n",
    "    \"\"\" Takes two lists S and T of any lengths and gives out the RBO Score\n",
    "    Parameters\n",
    "    ----------\n",
    "    S, T : Lists (str, integers)\n",
    "    p : Weight parameter, giving the influence of the first d\n",
    "        elements on the final score. p<0<1. Default 0.9 give the top 10 \n",
    "        elements 86% of the contribution in the final score.\n",
    "    \n",
    "    Returns\n",
    "    -------\n",
    "    Float of RBO score\n",
    "    \"\"\"\n",
    "    \n",
    "    # Fixed Terms\n",
    "    k = torch.max(torch.tensor([S.size(), T.size()]))\n",
    "    print(f\"k: {k}\")\n",
    "    x_k = (S[(S.view(1, -1) == T.view(-1, 1)).any(dim=0)]).size()[0]\n",
    "    #x_k = len(set(S).intersection(set(T)))\n",
    "    print(f\"x_k: {x_k}\")\n",
    "    \n",
    "    summation_term = 0\n",
    "\n",
    "    # Loop for summation\n",
    "    # k+1 for the loop to reach the last element (at k) in the bigger list    \n",
    "    for d in range (1, k+1): \n",
    "        # Create sets from the lists\n",
    "        set1 = S[:d] if d < S.size()[0] else S\n",
    "        set2 = T[:d] if d < T.size()[0] else T\n",
    "\n",
    "        # Intersection at depth d\n",
    "        #x_d = len(set1.intersection(set2))\n",
    "        x_d = (set1[(set1.view(1, -1) == set2.view(-1, 1)).any(dim=0)]).size()[0]\n",
    "        print(f\"x_d: {x_d}\")\n",
    "        # Agreement at depth d\n",
    "        a_d = x_d/d  \n",
    "        print(f\"a_d: {a_d}\")\n",
    "\n",
    "        # Summation\n",
    "        summation_term = summation_term + math.pow(p, d) * a_d\n",
    "\n",
    "    # Rank Biased Overlap - extrapolated\n",
    "    rbo_ext = (x_k/k) * math.pow(p, k) + ((1-p)/p * summation_term)\n",
    "\n",
    "    return rbo_ext"
   ]
  },
  {
   "cell_type": "code",
   "execution_count": 177,
   "id": "intermediate-majority",
   "metadata": {},
   "outputs": [
    {
     "data": {
      "text/plain": [
       "tensor([[-0.6735,  0.9478, -0.2213,  1.6973, -1.2357],\n",
       "        [-0.2100,  0.2180,  0.9389,  1.1782, -0.1748]])"
      ]
     },
     "execution_count": 177,
     "metadata": {},
     "output_type": "execute_result"
    }
   ],
   "source": [
    "y"
   ]
  },
  {
   "cell_type": "code",
   "execution_count": 179,
   "id": "reflected-stereo",
   "metadata": {},
   "outputs": [
    {
     "data": {
      "text/plain": [
       "torch.Size([2, 10])"
      ]
     },
     "execution_count": 179,
     "metadata": {},
     "output_type": "execute_result"
    }
   ],
   "source": [
    "torch.cat([x, y], dim=1)"
   ]
  },
  {
   "cell_type": "code",
   "execution_count": 171,
   "id": "quarterly-fellowship",
   "metadata": {},
   "outputs": [
    {
     "ename": "AttributeError",
     "evalue": "module 'torch' has no attribute 'vmap'",
     "output_type": "error",
     "traceback": [
      "\u001b[0;31m---------------------------------------------------------------------------\u001b[0m",
      "\u001b[0;31mAttributeError\u001b[0m                            Traceback (most recent call last)",
      "\u001b[0;32m<ipython-input-171-048dd73ea137>\u001b[0m in \u001b[0;36m<module>\u001b[0;34m\u001b[0m\n\u001b[1;32m      1\u001b[0m \u001b[0mf\u001b[0m \u001b[0;34m=\u001b[0m \u001b[0;32mlambda\u001b[0m \u001b[0mx\u001b[0m\u001b[0;34m:\u001b[0m \u001b[0mx\u001b[0m \u001b[0;34m**\u001b[0m \u001b[0;36m2\u001b[0m\u001b[0;34m\u001b[0m\u001b[0;34m\u001b[0m\u001b[0m\n\u001b[1;32m      2\u001b[0m \u001b[0mx\u001b[0m \u001b[0;34m=\u001b[0m \u001b[0mtorch\u001b[0m\u001b[0;34m.\u001b[0m\u001b[0mrandn\u001b[0m\u001b[0;34m(\u001b[0m\u001b[0;36m2\u001b[0m\u001b[0;34m,\u001b[0m \u001b[0;36m5\u001b[0m\u001b[0;34m)\u001b[0m\u001b[0;34m\u001b[0m\u001b[0;34m\u001b[0m\u001b[0m\n\u001b[0;32m----> 3\u001b[0;31m \u001b[0mbatched_pow\u001b[0m \u001b[0;34m=\u001b[0m \u001b[0mtorch\u001b[0m\u001b[0;34m.\u001b[0m\u001b[0mvmap\u001b[0m\u001b[0;34m(\u001b[0m\u001b[0mf\u001b[0m\u001b[0;34m,\u001b[0m \u001b[0mout_dims\u001b[0m\u001b[0;34m=\u001b[0m\u001b[0;36m1\u001b[0m\u001b[0;34m)\u001b[0m\u001b[0;34m\u001b[0m\u001b[0;34m\u001b[0m\u001b[0m\n\u001b[0m\u001b[1;32m      4\u001b[0m \u001b[0mbatched_pow\u001b[0m\u001b[0;34m(\u001b[0m\u001b[0mx\u001b[0m\u001b[0;34m)\u001b[0m \u001b[0;31m# [5, 2]\u001b[0m\u001b[0;34m\u001b[0m\u001b[0;34m\u001b[0m\u001b[0m\n",
      "\u001b[0;31mAttributeError\u001b[0m: module 'torch' has no attribute 'vmap'"
     ]
    }
   ],
   "source": [
    "f = lambda x: x ** 2\n",
    "x = torch.randn(2, 5)\n",
    "batched_pow = torch.vmap(f, out_dims=1)\n",
    "batched_pow(x) # [5, 2]"
   ]
  },
  {
   "cell_type": "code",
   "execution_count": null,
   "id": "adverse-electron",
   "metadata": {},
   "outputs": [],
   "source": []
  }
 ],
 "metadata": {
  "kernelspec": {
   "display_name": "Python 3",
   "language": "python",
   "name": "python3"
  },
  "language_info": {
   "codemirror_mode": {
    "name": "ipython",
    "version": 3
   },
   "file_extension": ".py",
   "mimetype": "text/x-python",
   "name": "python",
   "nbconvert_exporter": "python",
   "pygments_lexer": "ipython3",
   "version": "3.8.5"
  }
 },
 "nbformat": 4,
 "nbformat_minor": 5
}
