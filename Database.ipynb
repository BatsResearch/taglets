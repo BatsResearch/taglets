{
 "cells": [
  {
   "cell_type": "code",
   "execution_count": 1,
   "metadata": {},
   "outputs": [],
   "source": [
    "from sqlalchemy.ext.declarative import declarative_base\n",
    "from sqlalchemy import Column, Integer, String, ForeignKey, Boolean, Float\n",
    "from sqlalchemy.orm import relationship\n",
    "from sqlalchemy.schema import Index\n",
    "\n",
    "Base = declarative_base()\n",
    "\n",
    "\n",
    "class Edge(Base):\n",
    "    \"\"\"\n",
    "    An edge between two nodes in SCADS.\n",
    "    See https://github.com/commonsense/conceptnet5/wiki/Edges\n",
    "    key: The unique key of edge in 'edges' table\n",
    "    relation_key: The key of the relation expressed by the edge. A foreign key from 'relations' table\n",
    "    start_node_key: The node at the start of the edge. A foreign key from 'nodes' table\n",
    "    end_node_key: The node at the end of the edge. A foreign key from 'nodes' table\n",
    "    weight: The weight of the edge\n",
    "    info: Additional information about the edge\n",
    "    \"\"\"\n",
    "    __tablename__ = 'edges'\n",
    "    id = Column(Integer, primary_key=True)\n",
    "    relation_type = Column(Integer, ForeignKey('relations.id'))\n",
    "    weight = Column(Float)\n",
    "    start_node = Column(Integer, ForeignKey('nodes.id'))\n",
    "    end_node = Column(Integer, ForeignKey('nodes.id'))\n",
    "\n",
    "    relation = relationship(\"Relation\")\n",
    "\n",
    "    __table_args__ = (\n",
    "        Index('idx_edges_start_end', \"start_node\", \"end_node\"),\n",
    "        Index('idx_edges_end_start', \"end_node\", \"start_node\")\n",
    "    )\n",
    "\n",
    "    def __repr__(self):\n",
    "        return \"<Edge(key='%s', relation='%s', weight='%s', start_node='%s', end_node='%s')>\" % \\\n",
    "               (self.id, self.relation_type, self.weight, self.start_node, self.end_node)\n",
    "\n",
    "\n",
    "class Node(Base):\n",
    "    \"\"\"\n",
    "    A node in SCADS.\n",
    "    For example:\n",
    "        node = Node(key='0', name='/c/en/...')\n",
    "    key: The unique key of node in 'nodes' table\n",
    "    name: The name of the node\n",
    "    \"\"\"\n",
    "    __tablename__ = 'nodes'\n",
    "    id = Column(Integer, primary_key=True)\n",
    "    conceptnet_id = Column(String, index=True, unique=True)\n",
    "\n",
    "    images = relationship(\"Image\", back_populates=\"node\")\n",
    "    clips = relationship(\"Clip\", back_populates=\"node\")\n",
    "    outgoing_edges = relationship(\"Edge\", primaryjoin=id == Edge.start_node)\n",
    "\n",
    "    def __repr__(self):\n",
    "        return \"<Node(key='%s', name='%s'')>\" % (self.id, self.conceptnet_id)\n",
    "\n",
    "\n",
    "class Relation(Base):\n",
    "    \"\"\"\n",
    "    A relation between two nodes in SCADS.\n",
    "    See https://github.com/commonsense/conceptnet5/wiki/Relations.\n",
    "    key: The unique key of relation type in 'relations' table\n",
    "    name: The name of the relation\n",
    "    type: The type of relation between two nodes. For example 'HasA', 'IsA', and 'Antonym'.\n",
    "    \"\"\"\n",
    "    __tablename__ = 'relations'\n",
    "    id = Column(Integer, primary_key=True)\n",
    "    type = Column(String)\n",
    "    is_directed = Column(Boolean)\n",
    "\n",
    "    edges = relationship(\"Edge\", back_populates=\"relation\")\n",
    "\n",
    "    def __repr__(self):\n",
    "        return \"<Relation(key='%s', type='%s', is_directed='%s')>\" % (self.id, self.type, self.is_directed)\n",
    "\n",
    "\n",
    "class Dataset(Base):\n",
    "    \"\"\"\n",
    "    A dataset in SCADS.\n",
    "    We could have several datasets such as ImageNet, CIFAR10, CIFAR100, MNIST, etc. in SCADS.\n",
    "    For example:\n",
    "        cifar100 = Dataset(key=0, name='CIFAR100', nb_classes=100)\n",
    "    key: The unique, autoincremented key of the dataset\n",
    "    name: The name of the dataset (optional)\n",
    "    path: The path to the dataset relative to the SCADS root path (optional)\n",
    "    \"\"\"\n",
    "    __tablename__ = 'datasets'\n",
    "    id = Column(Integer, primary_key=True, autoincrement=True)\n",
    "    name = Column(String)\n",
    "    path = Column(String)\n",
    "    \n",
    "    images = relationship(\"Image\", back_populates=\"dataset\")\n",
    "    clips = relationship(\"Clip\", back_populates=\"dataset\")\n",
    "    \n",
    "    def __repr__(self):\n",
    "        return \"<Dataset(name='%s')>\" % self.name\n",
    "\n",
    "\n",
    "class Image(Base):\n",
    "    \"\"\"\n",
    "    An Image in SCADS.\n",
    "    For example:\n",
    "          apple_img_1 = Image(dataset_key='cifar100 key',\n",
    "                              node_key='apple key',\n",
    "                              mode = 'train',\n",
    "                              location='directory/apple_1.png')\n",
    "    key: The unique, autoincremented key of the image\n",
    "    dataset_key: The key of the corresponding dataset for the image. A foreign key from 'datasets' table\n",
    "    node_key: The key of the corresponding node for the image. A foreign key from 'nodes' table\n",
    "    mode: If the image is saved for 'train' or 'test' in actual dataset\n",
    "          If None, the image is not categorized based on train and test\n",
    "    location: The location of the image relateive to the SCADS root path\n",
    "    \"\"\"\n",
    "    __tablename__ = 'images'\n",
    "    id = Column(Integer, primary_key=True, autoincrement=True)\n",
    "    dataset_id = Column(Integer, ForeignKey('datasets.id'))\n",
    "    node_id = Column(Integer, ForeignKey('nodes.id'), index=True)\n",
    "    path = Column(String)\n",
    "    \n",
    "    dataset = relationship(\"Dataset\", back_populates=\"images\")\n",
    "    node = relationship(\"Node\", back_populates=\"images\")\n",
    "\n",
    "    def __repr__(self):\n",
    "        return \"<Image(dataset='%s', node='%s', path='%s'')>\" % (self.dataset_id,\n",
    "                                                                 self.node_id,\n",
    "                                                                 self.path)\n",
    "\n",
    "\n",
    "class Clip(Base):\n",
    "    __tablename__ = \"clips\"\n",
    "    id = Column(Integer, primary_key=True, autoincrement=True)\n",
    "    clip_id = Column(Integer, index=True)\n",
    "    video_id = Column(Integer)\n",
    "    base_path = Column(String)\n",
    "    start_frame = Column(Integer)\n",
    "    end_frame = Column(Integer)\n",
    "    real_label = Column(String)\n",
    "\n",
    "    dataset_id = Column(Integer, ForeignKey('datasets.id'))\n",
    "    node_id = Column(Integer, ForeignKey('nodes.id'), index=True)\n",
    "\n",
    "    dataset = relationship(\"Dataset\", back_populates=\"clips\")\n",
    "    node = relationship(\"Node\", back_populates=\"clips\")\n",
    "\n",
    "    def __repr__(self):\n",
    "        return \"<Clip(id='%s', node='%s', base_path='%s', start_frame='%s', end_frame='%s')>\" % (\n",
    "            self.id,\n",
    "            self.node_id,\n",
    "            self.base_path,\n",
    "            self.start_frame,\n",
    "            self.end_frame\n",
    "        )"
   ]
  },
  {
   "cell_type": "code",
   "execution_count": 2,
   "metadata": {},
   "outputs": [],
   "source": [
    "import sqlalchemy as sa\n",
    "from sqlalchemy.orm import sessionmaker"
   ]
  },
  {
   "cell_type": "code",
   "execution_count": 3,
   "metadata": {},
   "outputs": [],
   "source": [
    "engine = sa.create_engine('sqlite:///' + 'predefined/scads.fall2020.sqlite3')\n",
    "Session = sessionmaker(bind=engine)\n",
    "session = Session()"
   ]
  },
  {
   "cell_type": "code",
   "execution_count": 34,
   "metadata": {},
   "outputs": [],
   "source": [
    "data = session.query(Dataset).filter_by(name='DomainNet: All')#.first()"
   ]
  },
  {
   "cell_type": "code",
   "execution_count": 35,
   "metadata": {},
   "outputs": [
    {
     "data": {
      "text/plain": [
       "0"
      ]
     },
     "execution_count": 35,
     "metadata": {},
     "output_type": "execute_result"
    }
   ],
   "source": [
    "data.delete()\n"
   ]
  },
  {
   "cell_type": "code",
   "execution_count": 33,
   "metadata": {},
   "outputs": [],
   "source": [
    "session.query(Dataset).filter_by(name='DomainNet: All').first()"
   ]
  },
  {
   "cell_type": "code",
   "execution_count": 36,
   "metadata": {},
   "outputs": [],
   "source": [
    "session.commit()"
   ]
  },
  {
   "cell_type": "code",
   "execution_count": 8,
   "metadata": {},
   "outputs": [
    {
     "name": "stderr",
     "output_type": "stream",
     "text": [
      "/snap/jupyter/6/lib/python3.7/site-packages/ipykernel_launcher.py:1: SADeprecationWarning: The Engine.table_names() method is deprecated and will be removed in a future release.  Please refer to Inspector.get_table_names(). (deprecated since: 1.4)\n",
      "  \"\"\"Entry point for launching an IPython kernel.\n"
     ]
    },
    {
     "data": {
      "text/plain": [
       "['clips', 'datasets', 'edges', 'images', 'nodes', 'relations']"
      ]
     },
     "execution_count": 8,
     "metadata": {},
     "output_type": "execute_result"
    }
   ],
   "source": [
    "engine.table_names()"
   ]
  },
  {
   "cell_type": "code",
   "execution_count": null,
   "metadata": {},
   "outputs": [],
   "source": []
  }
 ],
 "metadata": {
  "kernelspec": {
   "display_name": "Python 3",
   "language": "python",
   "name": "python3"
  },
  "language_info": {
   "codemirror_mode": {
    "name": "ipython",
    "version": 3
   },
   "file_extension": ".py",
   "mimetype": "text/x-python",
   "name": "python",
   "nbconvert_exporter": "python",
   "pygments_lexer": "ipython3",
   "version": "3.7.3"
  }
 },
 "nbformat": 4,
 "nbformat_minor": 2
}
