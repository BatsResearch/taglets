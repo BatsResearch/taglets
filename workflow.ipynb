{
 "cells": [
  {
   "cell_type": "code",
   "execution_count": 1,
   "metadata": {},
   "outputs": [],
   "source": [
    "from scads import Scads, add_conceptnet, add_datasets\n",
    "from modules.module import BaseModule\n",
    "from taglet_executer import TagletExecuter\n",
    "from task import Task\n",
    "from JPL_interface import JPL\n",
    "import os\n",
    "import random\n",
    "import pandas as pd\n",
    "from pathlib import Path\n",
    "from modules.module import *\n",
    "%load_ext autoreload\n",
    "%autoreload 2"
   ]
  },
  {
   "cell_type": "code",
   "execution_count": 2,
   "metadata": {},
   "outputs": [],
   "source": [
    "#####***** connect to JPL API and create a session ********#####\n",
    "\n",
    "JPL_API = JPL()\n",
    "tasks = JPL_API.get_available_tasks()\n",
    "task_name = tasks[1]    # Problem_test_image_classification\n",
    "\n",
    "task_metadata = JPL_API.get_task_metadata(task_name)\n",
    "JPL_API.create_session(task_name)\n",
    "\n",
    "\n",
    "#####***** creat task based on the meta data from curren session ********#####\n",
    "current_task = Task(task_metadata)\n",
    "session_status = JPL_API.get_session_status()\n",
    "current_dataset = session_status['current_dataset']\n",
    "current_task.classes = current_dataset['classes']\n",
    "current_task.number_of_channels = current_dataset['number_of_channels']\n",
    "###download data to local system in the path given by data_url(/datasets/lwll_datasets/mnist/mnist_sample/train)\n",
    "\n",
    "current_task.unlabeled_image_path = '.'+ current_dataset['data_url']\n",
    "current_task.test_image_path = os.path.abspath(os.getcwd())+'/datasets/lwll_datasets/mnist/mnist_sample/test/' # should be updated later\n",
    "current_task.labeled_images = JPL_API.get_seed_labels()"
   ]
  },
  {
   "cell_type": "code",
   "execution_count": 3,
   "metadata": {
    "scrolled": true
   },
   "outputs": [
    {
     "name": "stdout",
     "output_type": "stream",
     "text": [
      "./datasets/lwll_datasets/mnist/mnist_sample/train\n",
      "3000\n"
     ]
    }
   ],
   "source": [
    "#####***** get available budget and run active learning module ********#####\n",
    "\n",
    "available_budget = session_status['budget_left_until_checkpoint']\n",
    "active_learning = RandomActiveLearning(current_task, available_budget)\n",
    "active_learning.find_candidates()\n",
    "examples = active_learning.candidates\n",
    "\n",
    "query = {'example_ids':examples}\n",
    "\n",
    "labeled_images = JPL_API.request_label(query)\n",
    "current_task.labeled_images = labeled_images\n",
    "print(len(labeled_images))\n"
   ]
  },
  {
   "cell_type": "code",
   "execution_count": 15,
   "metadata": {},
   "outputs": [
    {
     "name": "stdout",
     "output_type": "stream",
     "text": [
      "number of training data: 2100\n",
      "number of validation data: 450\n",
      "number of test data: 450\n"
     ]
    }
   ],
   "source": [
    "#####***** create a transfer learning module ********#####\n",
    "MNIST_module = TransferModule(task=current_task)"
   ]
  },
  {
   "cell_type": "code",
   "execution_count": 16,
   "metadata": {
    "scrolled": true
   },
   "outputs": [
    {
     "name": "stdout",
     "output_type": "stream",
     "text": [
      "epoch: 0\n",
      "train loss: 0.0022\n",
      "train acc: 0.1905%\n",
      "validation loss: 0.0153\n",
      "validation acc: 2.0000%\n",
      "Deep copying new best model. (validation of 0.0200%, over 0.0000%)\n",
      "Epoch 1 result: \n",
      "Average trainin loss: 0.0022\n",
      "Average training accuracy: 0.1905%\n",
      "Average validation loss: 0.0153\n",
      "Average validation accuracy: 2.0000%\n",
      "test loss: 0.0153\n",
      "test acc: 2.6667%\n"
     ]
    }
   ],
   "source": [
    "#####***** train taglets assocated with the module ********#####\n",
    "MNIST_module.train_taglets()"
   ]
  },
  {
   "cell_type": "code",
   "execution_count": 17,
   "metadata": {},
   "outputs": [],
   "source": [
    "#####***** create taglet executer model ********#####\n",
    "taglets = MNIST_module.get_taglets()\n",
    "taglet_executer = TagletExecuter(taglets)"
   ]
  },
  {
   "cell_type": "code",
   "execution_count": 18,
   "metadata": {},
   "outputs": [],
   "source": [
    "#####***** perform inference on ALL unlabeled images using taglet_executer and return label matrix ********#####\n",
    "label_matrix = taglet_executer.execute(current_task.unlabeled_images)"
   ]
  },
  {
   "cell_type": "code",
   "execution_count": null,
   "metadata": {},
   "outputs": [],
   "source": [
    "#####***** labelmodel on label_matrix and train end model ********#####\n",
    "# soft_labels = LabelModel.annotate(label_matrix)\n",
    "# end_model = end_model(...)\n",
    "# [test_predictions] = end_model.prediction(end_model, task.evaluation_image_path)\n",
    "\n",
    "### random labels just for the sake of producing something...\n",
    "test_imgs = [f.name for f in Path(current_task.test_image_path).iterdir() if f.is_file()]\n",
    "rand_lbls = [str(random.randint(0, 10)) for _ in range(len(test_imgs))]\n",
    "df = pd.DataFrame({'id': test_imgs, 'label': rand_lbls})\n",
    "predictions = df.to_dict()\n"
   ]
  },
  {
   "cell_type": "code",
   "execution_count": null,
   "metadata": {},
   "outputs": [],
   "source": [
    "#####************* submit predictions ***********#####\n",
    "\n",
    "JPL_API.submit_prediction(predictions)\n",
    "\n",
    "session_status = JPL_API.get_session_status()\n",
    "print(session_status['checkpoint_scores'])\n",
    "print('we are currently in '+ session_status['pair_stage']+ ' phase!')"
   ]
  }
 ],
 "metadata": {
  "anaconda-cloud": {},
  "kernelspec": {
   "display_name": "Python [conda env:anaconda3]",
   "language": "python",
   "name": "conda-env-anaconda3-py"
  },
  "language_info": {
   "codemirror_mode": {
    "name": "ipython",
    "version": 3
   },
   "file_extension": ".py",
   "mimetype": "text/x-python",
   "name": "python",
   "nbconvert_exporter": "python",
   "pygments_lexer": "ipython3",
   "version": "3.5.2"
  },
  "pycharm": {
   "stem_cell": {
    "cell_type": "raw",
    "source": [],
    "metadata": {
     "collapsed": false
    }
   }
  }
 },
 "nbformat": 4,
 "nbformat_minor": 1
}