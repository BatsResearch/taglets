{
 "cells": [
  {
   "cell_type": "code",
   "execution_count": 2,
   "id": "compact-recipient",
   "metadata": {},
   "outputs": [],
   "source": [
    "import requests\n",
    "import os\n",
    "import json\n",
    "\n",
    "secret = 'a5aed2a8-db80-4b22-bf72-11f2d0765572'\n",
    "url = 'https://api-dev.lollllz.com/'"
   ]
  },
  {
   "cell_type": "code",
   "execution_count": 33,
   "id": "stock-reference",
   "metadata": {},
   "outputs": [
    {
     "name": "stdout",
     "output_type": "stream",
     "text": [
      "{\n",
      "  \"task_metadata\": {\n",
      "    \"adaptation_dataset\": \"ucf101\",\n",
      "    \"adaptation_evaluation_metrics\": [\n",
      "      \"accuracy\"\n",
      "    ],\n",
      "    \"adaptation_label_budget_full\": [\n",
      "      101,\n",
      "      202,\n",
      "      404,\n",
      "      808,\n",
      "      1540,\n",
      "      2934,\n",
      "      5592,\n",
      "      10656\n",
      "    ],\n",
      "    \"adaptation_label_budget_sample\": [\n",
      "      101,\n",
      "      202,\n",
      "      404,\n",
      "      808,\n",
      "      961,\n",
      "      1143,\n",
      "      1359,\n",
      "      1616\n",
      "    ],\n",
      "    \"base_dataset\": \"hmdb\",\n",
      "    \"base_evaluation_metrics\": [\n",
      "      \"accuracy\"\n",
      "    ],\n",
      "    \"base_label_budget_full\": [\n",
      "      51,\n",
      "      102,\n",
      "      204,\n",
      "      408,\n",
      "      779,\n",
      "      1486,\n",
      "      2836,\n",
      "      5412\n",
      "    ],\n",
      "    \"base_label_budget_sample\": [\n",
      "      51,\n",
      "      102,\n",
      "      204,\n",
      "      408,\n",
      "      485,\n",
      "      577,\n",
      "      686,\n",
      "      816\n",
      "    ],\n",
      "    \"problem_type\": \"video_classification\",\n",
      "    \"task_id\": \"9c103cc4-e2e1-4070-9877-c3b64a6f327f\",\n",
      "    \"whitelist\": [\n",
      "      \"imagenet_1k\"\n",
      "    ]\n",
      "  }\n",
      "}\n"
     ]
    }
   ],
   "source": [
    "# Task metadata\n",
    "headers = {'user_secret': secret, 'govteam_secret': os.environ.get('GOVTEAM_SECRET')}\n",
    "r = requests.get(f\"{url}/task_metadata/9c103cc4-e2e1-4070-9877-c3b64a6f327f\", headers=headers)\n",
    "print(json.dumps(r.json(), indent=2))"
   ]
  },
  {
   "cell_type": "code",
   "execution_count": null,
   "id": "labeled-wilson",
   "metadata": {},
   "outputs": [],
   "source": []
  },
  {
   "cell_type": "code",
   "execution_count": 38,
   "id": "accepted-decrease",
   "metadata": {},
   "outputs": [
    {
     "name": "stdout",
     "output_type": "stream",
     "text": [
      "{\n",
      "  \"dataset_metadata\": {\n",
      "    \"classes\": [\n",
      "      \"walk\",\n",
      "      \"sit\",\n",
      "      \"climb\",\n",
      "      \"fencing\",\n",
      "      \"ride_bike\",\n",
      "      \"cartwheel\",\n",
      "      \"ride_horse\",\n",
      "      \"sword\",\n",
      "      \"clap\",\n",
      "      \"climb_stairs\",\n",
      "      \"shoot_bow\",\n",
      "      \"smile\",\n",
      "      \"somersault\",\n",
      "      \"handstand\",\n",
      "      \"kiss\",\n",
      "      \"run\",\n",
      "      \"shake_hands\",\n",
      "      \"pullup\",\n",
      "      \"chew\",\n",
      "      \"smoke\",\n",
      "      \"kick_ball\",\n",
      "      \"situp\",\n",
      "      \"laugh\",\n",
      "      \"shoot_gun\",\n",
      "      \"turn\",\n",
      "      \"dive\",\n",
      "      \"push\",\n",
      "      \"brush_hair\",\n",
      "      \"punch\",\n",
      "      \"wave\",\n",
      "      \"shoot_ball\",\n",
      "      \"hit\",\n",
      "      \"fall_floor\",\n",
      "      \"draw_sword\",\n",
      "      \"swing_baseball\",\n",
      "      \"pushup\",\n",
      "      \"flic_flac\",\n",
      "      \"pour\",\n",
      "      \"dribble\",\n",
      "      \"eat\",\n",
      "      \"kick\",\n",
      "      \"jump\",\n",
      "      \"hug\",\n",
      "      \"stand\",\n",
      "      \"catch\",\n",
      "      \"talk\",\n",
      "      \"golf\",\n",
      "      \"pick\",\n",
      "      \"throw\",\n",
      "      \"drink\",\n",
      "      \"sword_exercise\"\n",
      "    ],\n",
      "    \"dataset_type\": \"video_classification\",\n",
      "    \"full_number_of_classes\": 51,\n",
      "    \"full_number_of_samples_test\": 1354,\n",
      "    \"full_number_of_samples_train\": 5412,\n",
      "    \"license_citation\": \"Kuehne, Hildegard, Hueihan Jhuang, Est\\u00edbaliz Garrote, Tomaso Poggio, and Thomas Serre. \\\"HMDB: a large video database for human motion recognition.\\\" In 2011 International conference on computer vision, pp. 2556-2563. IEEE, 2011.\",\n",
      "    \"license_link\": \"https://serre-lab.clps.brown.edu/resource/hmdb-a-large-human-motion-database/#Downloads\",\n",
      "    \"license_requirements\": \"None\",\n",
      "    \"name\": \"hmdb\",\n",
      "    \"number_of_channels\": 1,\n",
      "    \"sample_number_of_classes\": 51,\n",
      "    \"sample_number_of_samples_test\": 100,\n",
      "    \"sample_number_of_samples_train\": 816,\n",
      "    \"uid\": \"hmdb\"\n",
      "  }\n",
      "}\n"
     ]
    }
   ],
   "source": [
    "# dataset metadata\n",
    "headers = {'user_secret': secret, 'govteam_secret': os.environ.get('GOVTEAM_SECRET')}\n",
    "r = requests.get(f\"{url}/dataset_metadata/hmdb\", headers=headers)\n",
    "print(json.dumps(r.json(), indent=2))"
   ]
  },
  {
   "cell_type": "markdown",
   "id": "lesbian-westminster",
   "metadata": {},
   "source": [
    "# Create a new session"
   ]
  },
  {
   "cell_type": "code",
   "execution_count": 7,
   "id": "progressive-valentine",
   "metadata": {},
   "outputs": [
    {
     "data": {
      "text/plain": [
       "{'session_token': 'VpXg145X6D5cicNOoeVN'}"
      ]
     },
     "execution_count": 7,
     "metadata": {},
     "output_type": "execute_result"
    }
   ],
   "source": [
    "headers = {'user_secret': secret, 'govteam_secret': os.environ.get('GOVTEAM_SECRET')}\n",
    "\n",
    "# This is a convenience for development purposes, IN EVAL ALWAYS USE `full`\n",
    "data_type = 'sample' # can either be `sample` or `full`\n",
    "\n",
    "# Option to customize the session name \n",
    "r = requests.post(f\"{url}/auth/create_session\", json={'session_name': 'testing', 'data_type': data_type, \n",
    "                                                      'task_id': '9c391ced-19ed-489a-9be0-ecf11fc4dcab'},\n",
    "                  headers=headers)\n",
    "r.json()"
   ]
  },
  {
   "cell_type": "code",
   "execution_count": 8,
   "id": "cross-silver",
   "metadata": {},
   "outputs": [],
   "source": [
    "session_token = r.json()['session_token']"
   ]
  },
  {
   "cell_type": "code",
   "execution_count": 9,
   "id": "ready-nursery",
   "metadata": {},
   "outputs": [
    {
     "data": {
      "text/plain": [
       "{'Session_Status': {'active': 'In Progress',\n",
       "  'budget_left_until_checkpoint': 23,\n",
       "  'budget_used': 0,\n",
       "  'current_dataset': {'classes': ['apxs',\n",
       "    'apxs cal target',\n",
       "    'chemcam cal target',\n",
       "    'chemin inlet open',\n",
       "    'drill',\n",
       "    'drill holes',\n",
       "    'drt front',\n",
       "    'drt side',\n",
       "    'ground',\n",
       "    'horizon',\n",
       "    'inlet',\n",
       "    'mahli',\n",
       "    'mahli cal target',\n",
       "    'mastcam',\n",
       "    'mastcam cal target',\n",
       "    'observation tray',\n",
       "    'portion box',\n",
       "    'portion tube',\n",
       "    'portion tube opening',\n",
       "    'rems uv sensor',\n",
       "    'rover rear deck',\n",
       "    'scoop',\n",
       "    'sun',\n",
       "    'turret',\n",
       "    'wheel'],\n",
       "   'dataset_type': 'image_classification',\n",
       "   'license_citation': '10.5281/zenodo.1049137. Please also cite this paper, which provides additional details about the                                  data set. Kiri L. Wagstaff, You Lu, Alice Stanboli, Kevin Grimes, Thamme Gowda, and Jordan Padams. \"Deep Mars: CNN                                  Classification of Mars Imagery for the PDS Imaging Atlas.\"\\xa0Proceedings of the Thirtieth Annual Conference on Innovative                                  Applications of Artificial Intelligence, 2018.',\n",
       "   'license_link': 'https://creativecommons.org/licenses/by-sa/4.0/legalcode',\n",
       "   'license_requirements': 'None',\n",
       "   'name': 'mars_surface_imgs',\n",
       "   'number_of_channels': 3,\n",
       "   'number_of_classes': 23,\n",
       "   'number_of_samples_test': 10,\n",
       "   'number_of_samples_train': 230,\n",
       "   'uid': 'mars_surface_imgs'},\n",
       "  'current_label_budget_stages': [23, 46, 92, 184, 195, 206, 218, 230],\n",
       "  'date_created': 1622740819000,\n",
       "  'date_last_interacted': 1622740819000,\n",
       "  'domain_adaptation_submitted': False,\n",
       "  'pair_stage': 'base',\n",
       "  'session_name': 'testing',\n",
       "  'task_id': '9c391ced-19ed-489a-9be0-ecf11fc4dcab',\n",
       "  'uid': 'VpXg145X6D5cicNOoeVN',\n",
       "  'user_name': 'Brown',\n",
       "  'using_sample_datasets': True}}"
      ]
     },
     "execution_count": 9,
     "metadata": {},
     "output_type": "execute_result"
    }
   ],
   "source": [
    "# session status\n",
    "headers = {'user_secret': secret, 'session_token': session_token, 'govteam_secret': os.environ.get('GOVTEAM_SECRET')}\n",
    "\n",
    "r = requests.get(f\"{url}/session_status\", headers=headers)\n",
    "r.json()"
   ]
  },
  {
   "cell_type": "code",
   "execution_count": 10,
   "id": "altered-coalition",
   "metadata": {},
   "outputs": [
    {
     "data": {
      "text/plain": [
       "{'Labels': [{'class': ' apxs', 'id': '0173MR0008910000201795I01_DRCL.JPG'},\n",
       "  {'class': ' apxs cal target', 'id': '0179MH0002170010102506C00_DRCL.JPG'},\n",
       "  {'class': ' chemcam cal target', 'id': '0025ML0001270080100815E01_DRCL.JPG'},\n",
       "  {'class': ' chemin inlet open', 'id': '0036MH0000510030100053C00_DRCL.JPG'},\n",
       "  {'class': ' drill', 'id': '0128MR0005340000200813E01_DRCL.JPG'},\n",
       "  {'class': ' drill holes', 'id': '0180MH0001490020102527E01_DRCL.JPG'},\n",
       "  {'class': ' drt side', 'id': '0169MR0009110000201658I01_DRCL.JPG'},\n",
       "  {'class': ' ground', 'id': '0072MR0005610170103642E01_DRCL.JPG'},\n",
       "  {'class': ' horizon', 'id': '0003ML0000000160100036I01_DRCL.JPG'},\n",
       "  {'class': 'inlet', 'id': '0163ML0008760040104601I01_DRCL.JPG'},\n",
       "  {'class': 'mahli', 'id': '0032MR0000760020100776I01_DRCL.JPG'},\n",
       "  {'class': 'mahli cal target', 'id': '0034MH0000470040100046I01_DRCL.JPG'},\n",
       "  {'class': 'mastcam', 'id': '0177MH0002260000102364C00_DRCL.JPG'},\n",
       "  {'class': 'mastcam cal target', 'id': '0013MR0000020060100034D01_DRCL.JPG'},\n",
       "  {'class': 'observation tray', 'id': '0077ML0005780000102730I01_DRCL.JPG'},\n",
       "  {'class': 'portion box', 'id': '0065MR0003370010103265I01_DRCL.JPG'},\n",
       "  {'class': 'portion tube', 'id': '0073MR0003920010103662E01_DRCL.JPG'},\n",
       "  {'class': 'portion tube opening',\n",
       "   'id': '0173MR0008930000201797C00_DRCL.JPG'},\n",
       "  {'class': 'rems uv sensor', 'id': '0103ML0006770000103029I01_DRCL.JPG'},\n",
       "  {'class': 'rover rear deck', 'id': '0025ML0001270090100816E01_DRCL.JPG'},\n",
       "  {'class': 'scoop', 'id': '0069MR0004130000103477I01_DRCL.JPG'},\n",
       "  {'class': 'turret', 'id': '0032ML0000910000100874I01_DRCL.JPG'},\n",
       "  {'class': 'wheel', 'id': '0084MH0000710000100908I01_DRCL.JPG'}]}"
      ]
     },
     "execution_count": 10,
     "metadata": {},
     "output_type": "execute_result"
    }
   ],
   "source": [
    "headers = {'user_secret': secret, 'session_token': session_token, 'govteam_secret': os.environ.get('GOVTEAM_SECRET')}\n",
    "\n",
    "r = requests.get(f\"{url}/seed_labels\", headers=headers)\n",
    "r.json()"
   ]
  },
  {
   "cell_type": "code",
   "execution_count": 12,
   "id": "located-worcester",
   "metadata": {},
   "outputs": [],
   "source": [
    "import pandas as pd\n",
    "from pathlib import Path\n",
    "from typing import Tuple, List\n",
    "import random"
   ]
  },
  {
   "cell_type": "code",
   "execution_count": 29,
   "id": "restricted-stack",
   "metadata": {},
   "outputs": [],
   "source": [
    "def get_test_images_and_classes(dataset_path: Path, session_token: str, data_type: str='sample') -> Tuple[List[str],List[str]]:\n",
    "    \"\"\"\n",
    "    Helper method to dynamically get the test labels and give us the possible classes that can be submitted\n",
    "    for the current dataset\n",
    "    \n",
    "    Params\n",
    "    ------\n",
    "    \n",
    "    dataset_path : Path\n",
    "        The path to the `development` dataset downloads\n",
    "    \n",
    "    session_token : str\n",
    "        Your current session token so that we can look up the current session metadata\n",
    "    \n",
    "    data_type: str\n",
    "        Indicates whether you are using the `sample` or `full` dataset. \n",
    "    Returns\n",
    "    -------\n",
    "    \n",
    "    Tuple[List[str], List[str]]\n",
    "        The list of test image ids needed to submit a prediction and the list of class names that you can predict against\n",
    "    \"\"\"\n",
    "    # Then we can just reference our current metadata to get our dataset name and use that in the path\n",
    "    headers = {'user_secret': secret, 'session_token': session_token, 'govteam_secret': os.environ.get('GOVTEAM_SECRET')}\n",
    "    r = requests.get(f\"{url}/session_status\", headers=headers)\n",
    "    current_dataset = r.json()['Session_Status']['current_dataset']\n",
    "    current_dataset_name = current_dataset['name']\n",
    "    current_dataset_classes = current_dataset['classes']\n",
    "    \n",
    "    print(current_dataset_name, data_type, dataset_path)\n",
    "    test_imgs_dir = os.path.join(dataset_path, f\"{current_dataset_name}/{current_dataset_name}_{data_type}/test\")\n",
    "    print(test_imgs_dir)\n",
    "    test_imgs = [f for f in os.listdir(test_imgs_dir)]\n",
    "    return test_imgs, current_dataset_classes"
   ]
  },
  {
   "cell_type": "code",
   "execution_count": 30,
   "id": "known-victoria",
   "metadata": {},
   "outputs": [
    {
     "name": "stdout",
     "output_type": "stream",
     "text": [
      "mars_surface_imgs sample ../../../../lwll/development\n",
      "../../../../lwll/development/mars_surface_imgs/mars_surface_imgs_sample/test\n"
     ]
    }
   ],
   "source": [
    "DATASETS_PATH = '../../../../lwll/development'\n",
    "test_imgs, current_dataset_classes = get_test_images_and_classes(DATASETS_PATH, session_token) "
   ]
  },
  {
   "cell_type": "code",
   "execution_count": 31,
   "id": "widespread-sweet",
   "metadata": {},
   "outputs": [
    {
     "data": {
      "text/plain": [
       "['0610ML0025681300301706C00_DRCL.JPG',\n",
       " '0613MH0003900000203356E00_DRCL.JPG',\n",
       " '0613MH0003900000203359I01_DRCL.JPG',\n",
       " '0613MH0003900000203381I01_DRCL.JPG',\n",
       " '0640MH0002610010203787E01_DRCL.JPG',\n",
       " '0744ML0031980030205743E01_DRCL.JPG',\n",
       " '0746ML0032100010205828E01_DRCL.JPG',\n",
       " '0840MR0037160000500796E01_DRCL.JPG',\n",
       " '1028MH0003850000204849I01_DRCL.JPG',\n",
       " '1059MR0046570000104690E01_DRCL.JPG']"
      ]
     },
     "execution_count": 31,
     "metadata": {},
     "output_type": "execute_result"
    }
   ],
   "source": [
    "test_imgs"
   ]
  },
  {
   "cell_type": "code",
   "execution_count": 32,
   "id": "atmospheric-import",
   "metadata": {},
   "outputs": [
    {
     "data": {
      "text/plain": [
       "['apxs',\n",
       " 'apxs cal target',\n",
       " 'chemcam cal target',\n",
       " 'chemin inlet open',\n",
       " 'drill',\n",
       " 'drill holes',\n",
       " 'drt front',\n",
       " 'drt side',\n",
       " 'ground',\n",
       " 'horizon',\n",
       " 'inlet',\n",
       " 'mahli',\n",
       " 'mahli cal target',\n",
       " 'mastcam',\n",
       " 'mastcam cal target',\n",
       " 'observation tray',\n",
       " 'portion box',\n",
       " 'portion tube',\n",
       " 'portion tube opening',\n",
       " 'rems uv sensor',\n",
       " 'rover rear deck',\n",
       " 'scoop',\n",
       " 'sun',\n",
       " 'turret',\n",
       " 'wheel']"
      ]
     },
     "execution_count": 32,
     "metadata": {},
     "output_type": "execute_result"
    }
   ],
   "source": [
    "current_dataset_classes"
   ]
  },
  {
   "cell_type": "code",
   "execution_count": null,
   "id": "renewable-herald",
   "metadata": {},
   "outputs": [],
   "source": []
  }
 ],
 "metadata": {
  "kernelspec": {
   "display_name": "Python 3",
   "language": "python",
   "name": "python3"
  },
  "language_info": {
   "codemirror_mode": {
    "name": "ipython",
    "version": 3
   },
   "file_extension": ".py",
   "mimetype": "text/x-python",
   "name": "python",
   "nbconvert_exporter": "python",
   "pygments_lexer": "ipython3",
   "version": "3.8.5"
  }
 },
 "nbformat": 4,
 "nbformat_minor": 5
}
